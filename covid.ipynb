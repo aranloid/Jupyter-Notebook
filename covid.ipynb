{
 "cells": [
  {
   "cell_type": "code",
   "execution_count": 1,
   "id": "480fa358-9243-4d3d-b1f5-d0b3c18d66ad",
   "metadata": {},
   "outputs": [
    {
     "name": "stdout",
     "output_type": "stream",
     "text": [
      "✅ Dataset loaded successfully!\n"
     ]
    }
   ],
   "source": [
    "import pandas as pd\n",
    "\n",
    "# Load the dataset\n",
    "try:\n",
    "    covid_df = pd.read_csv('owid-covid-data.csv')\n",
    "    print(\"✅ Dataset loaded successfully!\")\n",
    "except FileNotFoundError:\n",
    "    print(\"❌ File not found. Please verify the filename and path.\")"
   ]
  },
  {
   "cell_type": "code",
   "execution_count": 2,
   "id": "e836139c-b14b-4664-9aba-8f21d5a7764a",
   "metadata": {},
   "outputs": [
    {
     "name": "stdout",
     "output_type": "stream",
     "text": [
      "\n",
      "🔍 DATASET STRUCTURE:\n",
      "Rows: 200483, Columns: 67\n",
      "\n",
      "📋 COLUMNS AVAILABLE:\n",
      "['iso_code', 'continent', 'location', 'date', 'total_cases', 'new_cases', 'new_cases_smoothed', 'total_deaths', 'new_deaths', 'new_deaths_smoothed', 'total_cases_per_million', 'new_cases_per_million', 'new_cases_smoothed_per_million', 'total_deaths_per_million', 'new_deaths_per_million', 'new_deaths_smoothed_per_million', 'reproduction_rate', 'icu_patients', 'icu_patients_per_million', 'hosp_patients', 'hosp_patients_per_million', 'weekly_icu_admissions', 'weekly_icu_admissions_per_million', 'weekly_hosp_admissions', 'weekly_hosp_admissions_per_million', 'total_tests', 'new_tests', 'total_tests_per_thousand', 'new_tests_per_thousand', 'new_tests_smoothed', 'new_tests_smoothed_per_thousand', 'positive_rate', 'tests_per_case', 'tests_units', 'total_vaccinations', 'people_vaccinated', 'people_fully_vaccinated', 'total_boosters', 'new_vaccinations', 'new_vaccinations_smoothed', 'total_vaccinations_per_hundred', 'people_vaccinated_per_hundred', 'people_fully_vaccinated_per_hundred', 'total_boosters_per_hundred', 'new_vaccinations_smoothed_per_million', 'new_people_vaccinated_smoothed', 'new_people_vaccinated_smoothed_per_hundred', 'stringency_index', 'population_density', 'median_age', 'aged_65_older', 'aged_70_older', 'gdp_per_capita', 'extreme_poverty', 'cardiovasc_death_rate', 'diabetes_prevalence', 'female_smokers', 'male_smokers', 'handwashing_facilities', 'hospital_beds_per_thousand', 'life_expectancy', 'human_development_index', 'population', 'excess_mortality_cumulative_absolute', 'excess_mortality_cumulative', 'excess_mortality', 'excess_mortality_cumulative_per_million']\n"
     ]
    }
   ],
   "source": [
    "# Display basic info\n",
    "print(\"\\n🔍 DATASET STRUCTURE:\")\n",
    "print(f\"Rows: {covid_df.shape[0]}, Columns: {covid_df.shape[1]}\")\n",
    "\n",
    "# Show available columns\n",
    "print(\"\\n📋 COLUMNS AVAILABLE:\")\n",
    "print(covid_df.columns.tolist())  # Full list"
   ]
  },
  {
   "cell_type": "code",
   "execution_count": 3,
   "id": "d7251ceb-bf18-4dbb-ba91-6069329e14d8",
   "metadata": {},
   "outputs": [
    {
     "name": "stdout",
     "output_type": "stream",
     "text": [
      "\n",
      "👀 FIRST 5 ROWS:\n"
     ]
    },
    {
     "data": {
      "text/html": [
       "<div>\n",
       "<style scoped>\n",
       "    .dataframe tbody tr th:only-of-type {\n",
       "        vertical-align: middle;\n",
       "    }\n",
       "\n",
       "    .dataframe tbody tr th {\n",
       "        vertical-align: top;\n",
       "    }\n",
       "\n",
       "    .dataframe thead th {\n",
       "        text-align: right;\n",
       "    }\n",
       "</style>\n",
       "<table border=\"1\" class=\"dataframe\">\n",
       "  <thead>\n",
       "    <tr style=\"text-align: right;\">\n",
       "      <th></th>\n",
       "      <th>iso_code</th>\n",
       "      <th>continent</th>\n",
       "      <th>location</th>\n",
       "      <th>date</th>\n",
       "      <th>total_cases</th>\n",
       "      <th>new_cases</th>\n",
       "      <th>new_cases_smoothed</th>\n",
       "      <th>total_deaths</th>\n",
       "      <th>new_deaths</th>\n",
       "      <th>new_deaths_smoothed</th>\n",
       "      <th>...</th>\n",
       "      <th>male_smokers</th>\n",
       "      <th>handwashing_facilities</th>\n",
       "      <th>hospital_beds_per_thousand</th>\n",
       "      <th>life_expectancy</th>\n",
       "      <th>human_development_index</th>\n",
       "      <th>population</th>\n",
       "      <th>excess_mortality_cumulative_absolute</th>\n",
       "      <th>excess_mortality_cumulative</th>\n",
       "      <th>excess_mortality</th>\n",
       "      <th>excess_mortality_cumulative_per_million</th>\n",
       "    </tr>\n",
       "  </thead>\n",
       "  <tbody>\n",
       "    <tr>\n",
       "      <th>0</th>\n",
       "      <td>AFG</td>\n",
       "      <td>Asia</td>\n",
       "      <td>Afghanistan</td>\n",
       "      <td>2020-01-03</td>\n",
       "      <td>NaN</td>\n",
       "      <td>0.0</td>\n",
       "      <td>NaN</td>\n",
       "      <td>NaN</td>\n",
       "      <td>0.0</td>\n",
       "      <td>NaN</td>\n",
       "      <td>...</td>\n",
       "      <td>NaN</td>\n",
       "      <td>37.746</td>\n",
       "      <td>0.5</td>\n",
       "      <td>64.83</td>\n",
       "      <td>0.511</td>\n",
       "      <td>41128772.0</td>\n",
       "      <td>NaN</td>\n",
       "      <td>NaN</td>\n",
       "      <td>NaN</td>\n",
       "      <td>NaN</td>\n",
       "    </tr>\n",
       "    <tr>\n",
       "      <th>1</th>\n",
       "      <td>AFG</td>\n",
       "      <td>Asia</td>\n",
       "      <td>Afghanistan</td>\n",
       "      <td>2020-01-04</td>\n",
       "      <td>NaN</td>\n",
       "      <td>0.0</td>\n",
       "      <td>NaN</td>\n",
       "      <td>NaN</td>\n",
       "      <td>0.0</td>\n",
       "      <td>NaN</td>\n",
       "      <td>...</td>\n",
       "      <td>NaN</td>\n",
       "      <td>37.746</td>\n",
       "      <td>0.5</td>\n",
       "      <td>64.83</td>\n",
       "      <td>0.511</td>\n",
       "      <td>41128772.0</td>\n",
       "      <td>NaN</td>\n",
       "      <td>NaN</td>\n",
       "      <td>NaN</td>\n",
       "      <td>NaN</td>\n",
       "    </tr>\n",
       "    <tr>\n",
       "      <th>2</th>\n",
       "      <td>AFG</td>\n",
       "      <td>Asia</td>\n",
       "      <td>Afghanistan</td>\n",
       "      <td>2020-01-05</td>\n",
       "      <td>NaN</td>\n",
       "      <td>0.0</td>\n",
       "      <td>NaN</td>\n",
       "      <td>NaN</td>\n",
       "      <td>0.0</td>\n",
       "      <td>NaN</td>\n",
       "      <td>...</td>\n",
       "      <td>NaN</td>\n",
       "      <td>37.746</td>\n",
       "      <td>0.5</td>\n",
       "      <td>64.83</td>\n",
       "      <td>0.511</td>\n",
       "      <td>41128772.0</td>\n",
       "      <td>NaN</td>\n",
       "      <td>NaN</td>\n",
       "      <td>NaN</td>\n",
       "      <td>NaN</td>\n",
       "    </tr>\n",
       "    <tr>\n",
       "      <th>3</th>\n",
       "      <td>AFG</td>\n",
       "      <td>Asia</td>\n",
       "      <td>Afghanistan</td>\n",
       "      <td>2020-01-06</td>\n",
       "      <td>NaN</td>\n",
       "      <td>0.0</td>\n",
       "      <td>NaN</td>\n",
       "      <td>NaN</td>\n",
       "      <td>0.0</td>\n",
       "      <td>NaN</td>\n",
       "      <td>...</td>\n",
       "      <td>NaN</td>\n",
       "      <td>37.746</td>\n",
       "      <td>0.5</td>\n",
       "      <td>64.83</td>\n",
       "      <td>0.511</td>\n",
       "      <td>41128772.0</td>\n",
       "      <td>NaN</td>\n",
       "      <td>NaN</td>\n",
       "      <td>NaN</td>\n",
       "      <td>NaN</td>\n",
       "    </tr>\n",
       "    <tr>\n",
       "      <th>4</th>\n",
       "      <td>AFG</td>\n",
       "      <td>Asia</td>\n",
       "      <td>Afghanistan</td>\n",
       "      <td>2020-01-07</td>\n",
       "      <td>NaN</td>\n",
       "      <td>0.0</td>\n",
       "      <td>NaN</td>\n",
       "      <td>NaN</td>\n",
       "      <td>0.0</td>\n",
       "      <td>NaN</td>\n",
       "      <td>...</td>\n",
       "      <td>NaN</td>\n",
       "      <td>37.746</td>\n",
       "      <td>0.5</td>\n",
       "      <td>64.83</td>\n",
       "      <td>0.511</td>\n",
       "      <td>41128772.0</td>\n",
       "      <td>NaN</td>\n",
       "      <td>NaN</td>\n",
       "      <td>NaN</td>\n",
       "      <td>NaN</td>\n",
       "    </tr>\n",
       "  </tbody>\n",
       "</table>\n",
       "<p>5 rows × 67 columns</p>\n",
       "</div>"
      ],
      "text/plain": [
       "  iso_code continent     location        date  total_cases  new_cases  \\\n",
       "0      AFG      Asia  Afghanistan  2020-01-03          NaN        0.0   \n",
       "1      AFG      Asia  Afghanistan  2020-01-04          NaN        0.0   \n",
       "2      AFG      Asia  Afghanistan  2020-01-05          NaN        0.0   \n",
       "3      AFG      Asia  Afghanistan  2020-01-06          NaN        0.0   \n",
       "4      AFG      Asia  Afghanistan  2020-01-07          NaN        0.0   \n",
       "\n",
       "   new_cases_smoothed  total_deaths  new_deaths  new_deaths_smoothed  ...  \\\n",
       "0                 NaN           NaN         0.0                  NaN  ...   \n",
       "1                 NaN           NaN         0.0                  NaN  ...   \n",
       "2                 NaN           NaN         0.0                  NaN  ...   \n",
       "3                 NaN           NaN         0.0                  NaN  ...   \n",
       "4                 NaN           NaN         0.0                  NaN  ...   \n",
       "\n",
       "   male_smokers  handwashing_facilities  hospital_beds_per_thousand  \\\n",
       "0           NaN                  37.746                         0.5   \n",
       "1           NaN                  37.746                         0.5   \n",
       "2           NaN                  37.746                         0.5   \n",
       "3           NaN                  37.746                         0.5   \n",
       "4           NaN                  37.746                         0.5   \n",
       "\n",
       "   life_expectancy  human_development_index  population  \\\n",
       "0            64.83                    0.511  41128772.0   \n",
       "1            64.83                    0.511  41128772.0   \n",
       "2            64.83                    0.511  41128772.0   \n",
       "3            64.83                    0.511  41128772.0   \n",
       "4            64.83                    0.511  41128772.0   \n",
       "\n",
       "   excess_mortality_cumulative_absolute  excess_mortality_cumulative  \\\n",
       "0                                   NaN                          NaN   \n",
       "1                                   NaN                          NaN   \n",
       "2                                   NaN                          NaN   \n",
       "3                                   NaN                          NaN   \n",
       "4                                   NaN                          NaN   \n",
       "\n",
       "   excess_mortality  excess_mortality_cumulative_per_million  \n",
       "0               NaN                                      NaN  \n",
       "1               NaN                                      NaN  \n",
       "2               NaN                                      NaN  \n",
       "3               NaN                                      NaN  \n",
       "4               NaN                                      NaN  \n",
       "\n",
       "[5 rows x 67 columns]"
      ]
     },
     "metadata": {},
     "output_type": "display_data"
    },
    {
     "name": "stdout",
     "output_type": "stream",
     "text": [
      "\n",
      "🎲 RANDOM SAMPLE:\n"
     ]
    },
    {
     "data": {
      "text/html": [
       "<div>\n",
       "<style scoped>\n",
       "    .dataframe tbody tr th:only-of-type {\n",
       "        vertical-align: middle;\n",
       "    }\n",
       "\n",
       "    .dataframe tbody tr th {\n",
       "        vertical-align: top;\n",
       "    }\n",
       "\n",
       "    .dataframe thead th {\n",
       "        text-align: right;\n",
       "    }\n",
       "</style>\n",
       "<table border=\"1\" class=\"dataframe\">\n",
       "  <thead>\n",
       "    <tr style=\"text-align: right;\">\n",
       "      <th></th>\n",
       "      <th>iso_code</th>\n",
       "      <th>continent</th>\n",
       "      <th>location</th>\n",
       "      <th>date</th>\n",
       "      <th>total_cases</th>\n",
       "      <th>new_cases</th>\n",
       "      <th>new_cases_smoothed</th>\n",
       "      <th>total_deaths</th>\n",
       "      <th>new_deaths</th>\n",
       "      <th>new_deaths_smoothed</th>\n",
       "      <th>...</th>\n",
       "      <th>male_smokers</th>\n",
       "      <th>handwashing_facilities</th>\n",
       "      <th>hospital_beds_per_thousand</th>\n",
       "      <th>life_expectancy</th>\n",
       "      <th>human_development_index</th>\n",
       "      <th>population</th>\n",
       "      <th>excess_mortality_cumulative_absolute</th>\n",
       "      <th>excess_mortality_cumulative</th>\n",
       "      <th>excess_mortality</th>\n",
       "      <th>excess_mortality_cumulative_per_million</th>\n",
       "    </tr>\n",
       "  </thead>\n",
       "  <tbody>\n",
       "    <tr>\n",
       "      <th>168444</th>\n",
       "      <td>LBN</td>\n",
       "      <td>Asia</td>\n",
       "      <td>Lebanon</td>\n",
       "      <td>2022-08-22</td>\n",
       "      <td>1204106.0</td>\n",
       "      <td>702.0</td>\n",
       "      <td>1009.286</td>\n",
       "      <td>10602.0</td>\n",
       "      <td>3.0</td>\n",
       "      <td>3.714</td>\n",
       "      <td>...</td>\n",
       "      <td>40.7</td>\n",
       "      <td>NaN</td>\n",
       "      <td>2.90</td>\n",
       "      <td>78.93</td>\n",
       "      <td>0.744</td>\n",
       "      <td>5489744.0</td>\n",
       "      <td>NaN</td>\n",
       "      <td>NaN</td>\n",
       "      <td>NaN</td>\n",
       "      <td>NaN</td>\n",
       "    </tr>\n",
       "    <tr>\n",
       "      <th>29944</th>\n",
       "      <td>BEL</td>\n",
       "      <td>Europe</td>\n",
       "      <td>Belgium</td>\n",
       "      <td>2022-04-24</td>\n",
       "      <td>4037867.0</td>\n",
       "      <td>6097.0</td>\n",
       "      <td>6007.143</td>\n",
       "      <td>31312.0</td>\n",
       "      <td>21.0</td>\n",
       "      <td>19.714</td>\n",
       "      <td>...</td>\n",
       "      <td>31.4</td>\n",
       "      <td>NaN</td>\n",
       "      <td>5.64</td>\n",
       "      <td>81.63</td>\n",
       "      <td>0.931</td>\n",
       "      <td>11655923.0</td>\n",
       "      <td>21294.701</td>\n",
       "      <td>8.26</td>\n",
       "      <td>14.4</td>\n",
       "      <td>1826.9425</td>\n",
       "    </tr>\n",
       "    <tr>\n",
       "      <th>155547</th>\n",
       "      <td>JOR</td>\n",
       "      <td>Asia</td>\n",
       "      <td>Jordan</td>\n",
       "      <td>2021-06-16</td>\n",
       "      <td>744377.0</td>\n",
       "      <td>500.0</td>\n",
       "      <td>468.000</td>\n",
       "      <td>9614.0</td>\n",
       "      <td>12.0</td>\n",
       "      <td>9.286</td>\n",
       "      <td>...</td>\n",
       "      <td>NaN</td>\n",
       "      <td>NaN</td>\n",
       "      <td>1.40</td>\n",
       "      <td>74.53</td>\n",
       "      <td>0.729</td>\n",
       "      <td>11285875.0</td>\n",
       "      <td>NaN</td>\n",
       "      <td>NaN</td>\n",
       "      <td>NaN</td>\n",
       "      <td>NaN</td>\n",
       "    </tr>\n",
       "    <tr>\n",
       "      <th>162078</th>\n",
       "      <td>KWT</td>\n",
       "      <td>Asia</td>\n",
       "      <td>Kuwait</td>\n",
       "      <td>2020-05-18</td>\n",
       "      <td>14850.0</td>\n",
       "      <td>1048.0</td>\n",
       "      <td>880.286</td>\n",
       "      <td>112.0</td>\n",
       "      <td>5.0</td>\n",
       "      <td>7.714</td>\n",
       "      <td>...</td>\n",
       "      <td>37.0</td>\n",
       "      <td>NaN</td>\n",
       "      <td>2.00</td>\n",
       "      <td>75.49</td>\n",
       "      <td>0.806</td>\n",
       "      <td>4268886.0</td>\n",
       "      <td>NaN</td>\n",
       "      <td>NaN</td>\n",
       "      <td>NaN</td>\n",
       "      <td>NaN</td>\n",
       "    </tr>\n",
       "    <tr>\n",
       "      <th>195099</th>\n",
       "      <td>MYT</td>\n",
       "      <td>Africa</td>\n",
       "      <td>Mayotte</td>\n",
       "      <td>2021-05-11</td>\n",
       "      <td>20134.0</td>\n",
       "      <td>0.0</td>\n",
       "      <td>5.714</td>\n",
       "      <td>170.0</td>\n",
       "      <td>0.0</td>\n",
       "      <td>0.000</td>\n",
       "      <td>...</td>\n",
       "      <td>NaN</td>\n",
       "      <td>NaN</td>\n",
       "      <td>NaN</td>\n",
       "      <td>79.46</td>\n",
       "      <td>NaN</td>\n",
       "      <td>326113.0</td>\n",
       "      <td>NaN</td>\n",
       "      <td>NaN</td>\n",
       "      <td>NaN</td>\n",
       "      <td>NaN</td>\n",
       "    </tr>\n",
       "  </tbody>\n",
       "</table>\n",
       "<p>5 rows × 67 columns</p>\n",
       "</div>"
      ],
      "text/plain": [
       "       iso_code continent location        date  total_cases  new_cases  \\\n",
       "168444      LBN      Asia  Lebanon  2022-08-22    1204106.0      702.0   \n",
       "29944       BEL    Europe  Belgium  2022-04-24    4037867.0     6097.0   \n",
       "155547      JOR      Asia   Jordan  2021-06-16     744377.0      500.0   \n",
       "162078      KWT      Asia   Kuwait  2020-05-18      14850.0     1048.0   \n",
       "195099      MYT    Africa  Mayotte  2021-05-11      20134.0        0.0   \n",
       "\n",
       "        new_cases_smoothed  total_deaths  new_deaths  new_deaths_smoothed  \\\n",
       "168444            1009.286       10602.0         3.0                3.714   \n",
       "29944             6007.143       31312.0        21.0               19.714   \n",
       "155547             468.000        9614.0        12.0                9.286   \n",
       "162078             880.286         112.0         5.0                7.714   \n",
       "195099               5.714         170.0         0.0                0.000   \n",
       "\n",
       "        ...  male_smokers  handwashing_facilities  hospital_beds_per_thousand  \\\n",
       "168444  ...          40.7                     NaN                        2.90   \n",
       "29944   ...          31.4                     NaN                        5.64   \n",
       "155547  ...           NaN                     NaN                        1.40   \n",
       "162078  ...          37.0                     NaN                        2.00   \n",
       "195099  ...           NaN                     NaN                         NaN   \n",
       "\n",
       "        life_expectancy  human_development_index  population  \\\n",
       "168444            78.93                    0.744   5489744.0   \n",
       "29944             81.63                    0.931  11655923.0   \n",
       "155547            74.53                    0.729  11285875.0   \n",
       "162078            75.49                    0.806   4268886.0   \n",
       "195099            79.46                      NaN    326113.0   \n",
       "\n",
       "        excess_mortality_cumulative_absolute  excess_mortality_cumulative  \\\n",
       "168444                                   NaN                          NaN   \n",
       "29944                              21294.701                         8.26   \n",
       "155547                                   NaN                          NaN   \n",
       "162078                                   NaN                          NaN   \n",
       "195099                                   NaN                          NaN   \n",
       "\n",
       "        excess_mortality  excess_mortality_cumulative_per_million  \n",
       "168444               NaN                                      NaN  \n",
       "29944               14.4                                1826.9425  \n",
       "155547               NaN                                      NaN  \n",
       "162078               NaN                                      NaN  \n",
       "195099               NaN                                      NaN  \n",
       "\n",
       "[5 rows x 67 columns]"
      ]
     },
     "metadata": {},
     "output_type": "display_data"
    }
   ],
   "source": [
    "# Show first 5 rows\n",
    "print(\"\\n👀 FIRST 5 ROWS:\")\n",
    "display(covid_df.head())\n",
    "\n",
    "# Show random 5 rows for variety\n",
    "print(\"\\n🎲 RANDOM SAMPLE:\")\n",
    "display(covid_df.sample(5))"
   ]
  },
  {
   "cell_type": "code",
   "execution_count": 4,
   "id": "fd12c4ad-1571-4478-8d72-71ddcef7d0cb",
   "metadata": {},
   "outputs": [
    {
     "name": "stdout",
     "output_type": "stream",
     "text": [
      "\n",
      "❓ MISSING VALUES:\n",
      "excess_mortality_cumulative_per_million    192868\n",
      "excess_mortality                           192868\n",
      "excess_mortality_cumulative                192868\n",
      "excess_mortality_cumulative_absolute       192868\n",
      "weekly_icu_admissions_per_million          192780\n",
      "weekly_icu_admissions                      192780\n",
      "weekly_hosp_admissions_per_million         186778\n",
      "weekly_hosp_admissions                     186778\n",
      "hosp_patients_per_million                  179434\n",
      "hosp_patients                              179434\n",
      "icu_patients                               178362\n",
      "icu_patients_per_million                   178362\n",
      "total_boosters_per_hundred                 171273\n",
      "total_boosters                             171273\n",
      "new_vaccinations                           159677\n",
      "new_tests                                  158215\n",
      "new_tests_per_thousand                     158215\n",
      "total_tests                                156307\n",
      "total_tests_per_thousand                   156307\n",
      "people_fully_vaccinated                    154940\n",
      "dtype: int64\n",
      "\n",
      "📊 PERCENTAGE MISSING:\n",
      "excess_mortality_cumulative_per_million    96.20\n",
      "excess_mortality                           96.20\n",
      "excess_mortality_cumulative                96.20\n",
      "excess_mortality_cumulative_absolute       96.20\n",
      "weekly_icu_admissions_per_million          96.16\n",
      "weekly_icu_admissions                      96.16\n",
      "weekly_hosp_admissions_per_million         93.16\n",
      "weekly_hosp_admissions                     93.16\n",
      "hosp_patients_per_million                  89.50\n",
      "hosp_patients                              89.50\n",
      "icu_patients                               88.97\n",
      "icu_patients_per_million                   88.97\n",
      "total_boosters_per_hundred                 85.43\n",
      "total_boosters                             85.43\n",
      "new_vaccinations                           79.65\n",
      "dtype: float64\n"
     ]
    }
   ],
   "source": [
    "# Check missing values\n",
    "print(\"\\n❓ MISSING VALUES:\")\n",
    "missing_data = covid_df.isnull().sum()\n",
    "\n",
    "# Display columns with most missing values first\n",
    "print(missing_data.sort_values(ascending=False).head(20))\n",
    "\n",
    "# Calculate percentage missing\n",
    "print(\"\\n📊 PERCENTAGE MISSING:\")\n",
    "print((covid_df.isnull().mean()*100).round(2).sort_values(ascending=False).head(15))"
   ]
  },
  {
   "cell_type": "code",
   "execution_count": 5,
   "id": "fa655db2-78b2-4eab-a81c-a5adcc75bd5f",
   "metadata": {},
   "outputs": [
    {
     "name": "stdout",
     "output_type": "stream",
     "text": [
      "\n",
      "🔑 KEY COLUMNS SUMMARY:\n"
     ]
    },
    {
     "data": {
      "text/html": [
       "<div>\n",
       "<style scoped>\n",
       "    .dataframe tbody tr th:only-of-type {\n",
       "        vertical-align: middle;\n",
       "    }\n",
       "\n",
       "    .dataframe tbody tr th {\n",
       "        vertical-align: top;\n",
       "    }\n",
       "\n",
       "    .dataframe thead th {\n",
       "        text-align: right;\n",
       "    }\n",
       "</style>\n",
       "<table border=\"1\" class=\"dataframe\">\n",
       "  <thead>\n",
       "    <tr style=\"text-align: right;\">\n",
       "      <th></th>\n",
       "      <th>date</th>\n",
       "      <th>location</th>\n",
       "      <th>total_cases</th>\n",
       "      <th>new_cases</th>\n",
       "      <th>total_deaths</th>\n",
       "      <th>new_deaths</th>\n",
       "      <th>total_vaccinations</th>\n",
       "      <th>people_vaccinated</th>\n",
       "      <th>population</th>\n",
       "    </tr>\n",
       "  </thead>\n",
       "  <tbody>\n",
       "    <tr>\n",
       "      <th>count</th>\n",
       "      <td>200483</td>\n",
       "      <td>200483</td>\n",
       "      <td>1.847420e+05</td>\n",
       "      <td>1.969450e+05</td>\n",
       "      <td>1.750260e+05</td>\n",
       "      <td>196972.000000</td>\n",
       "      <td>4.926900e+04</td>\n",
       "      <td>4.736300e+04</td>\n",
       "      <td>2.004820e+05</td>\n",
       "    </tr>\n",
       "    <tr>\n",
       "      <th>unique</th>\n",
       "      <td>1392</td>\n",
       "      <td>146</td>\n",
       "      <td>NaN</td>\n",
       "      <td>NaN</td>\n",
       "      <td>NaN</td>\n",
       "      <td>NaN</td>\n",
       "      <td>NaN</td>\n",
       "      <td>NaN</td>\n",
       "      <td>NaN</td>\n",
       "    </tr>\n",
       "    <tr>\n",
       "      <th>top</th>\n",
       "      <td>2021-11-29</td>\n",
       "      <td>India</td>\n",
       "      <td>NaN</td>\n",
       "      <td>NaN</td>\n",
       "      <td>NaN</td>\n",
       "      <td>NaN</td>\n",
       "      <td>NaN</td>\n",
       "      <td>NaN</td>\n",
       "      <td>NaN</td>\n",
       "    </tr>\n",
       "    <tr>\n",
       "      <th>freq</th>\n",
       "      <td>145</td>\n",
       "      <td>1390</td>\n",
       "      <td>NaN</td>\n",
       "      <td>NaN</td>\n",
       "      <td>NaN</td>\n",
       "      <td>NaN</td>\n",
       "      <td>NaN</td>\n",
       "      <td>NaN</td>\n",
       "      <td>NaN</td>\n",
       "    </tr>\n",
       "    <tr>\n",
       "      <th>mean</th>\n",
       "      <td>NaN</td>\n",
       "      <td>NaN</td>\n",
       "      <td>5.860444e+06</td>\n",
       "      <td>8.786611e+03</td>\n",
       "      <td>6.447405e+04</td>\n",
       "      <td>67.466178</td>\n",
       "      <td>3.845796e+08</td>\n",
       "      <td>1.666400e+08</td>\n",
       "      <td>1.264788e+08</td>\n",
       "    </tr>\n",
       "    <tr>\n",
       "      <th>std</th>\n",
       "      <td>NaN</td>\n",
       "      <td>NaN</td>\n",
       "      <td>3.184373e+07</td>\n",
       "      <td>1.047228e+05</td>\n",
       "      <td>2.744143e+05</td>\n",
       "      <td>474.479657</td>\n",
       "      <td>1.227660e+09</td>\n",
       "      <td>5.358011e+08</td>\n",
       "      <td>5.329227e+08</td>\n",
       "    </tr>\n",
       "    <tr>\n",
       "      <th>min</th>\n",
       "      <td>NaN</td>\n",
       "      <td>NaN</td>\n",
       "      <td>1.000000e+00</td>\n",
       "      <td>0.000000e+00</td>\n",
       "      <td>1.000000e+00</td>\n",
       "      <td>0.000000</td>\n",
       "      <td>0.000000e+00</td>\n",
       "      <td>0.000000e+00</td>\n",
       "      <td>3.801000e+03</td>\n",
       "    </tr>\n",
       "    <tr>\n",
       "      <th>25%</th>\n",
       "      <td>NaN</td>\n",
       "      <td>NaN</td>\n",
       "      <td>9.664000e+03</td>\n",
       "      <td>0.000000e+00</td>\n",
       "      <td>1.440000e+02</td>\n",
       "      <td>0.000000</td>\n",
       "      <td>1.374793e+06</td>\n",
       "      <td>7.808840e+05</td>\n",
       "      <td>5.237980e+05</td>\n",
       "    </tr>\n",
       "    <tr>\n",
       "      <th>50%</th>\n",
       "      <td>NaN</td>\n",
       "      <td>NaN</td>\n",
       "      <td>7.078200e+04</td>\n",
       "      <td>3.000000e+00</td>\n",
       "      <td>1.000000e+03</td>\n",
       "      <td>0.000000</td>\n",
       "      <td>1.147100e+07</td>\n",
       "      <td>6.384926e+06</td>\n",
       "      <td>5.489744e+06</td>\n",
       "    </tr>\n",
       "    <tr>\n",
       "      <th>75%</th>\n",
       "      <td>NaN</td>\n",
       "      <td>NaN</td>\n",
       "      <td>6.435050e+05</td>\n",
       "      <td>2.950000e+02</td>\n",
       "      <td>1.042775e+04</td>\n",
       "      <td>3.000000</td>\n",
       "      <td>1.091824e+08</td>\n",
       "      <td>4.523782e+07</td>\n",
       "      <td>2.267376e+07</td>\n",
       "    </tr>\n",
       "    <tr>\n",
       "      <th>max</th>\n",
       "      <td>NaN</td>\n",
       "      <td>NaN</td>\n",
       "      <td>4.259884e+08</td>\n",
       "      <td>7.213802e+06</td>\n",
       "      <td>2.914272e+06</td>\n",
       "      <td>20625.000000</td>\n",
       "      <td>9.075492e+09</td>\n",
       "      <td>3.686377e+09</td>\n",
       "      <td>4.721383e+09</td>\n",
       "    </tr>\n",
       "  </tbody>\n",
       "</table>\n",
       "</div>"
      ],
      "text/plain": [
       "              date location   total_cases     new_cases  total_deaths  \\\n",
       "count       200483   200483  1.847420e+05  1.969450e+05  1.750260e+05   \n",
       "unique        1392      146           NaN           NaN           NaN   \n",
       "top     2021-11-29    India           NaN           NaN           NaN   \n",
       "freq           145     1390           NaN           NaN           NaN   \n",
       "mean           NaN      NaN  5.860444e+06  8.786611e+03  6.447405e+04   \n",
       "std            NaN      NaN  3.184373e+07  1.047228e+05  2.744143e+05   \n",
       "min            NaN      NaN  1.000000e+00  0.000000e+00  1.000000e+00   \n",
       "25%            NaN      NaN  9.664000e+03  0.000000e+00  1.440000e+02   \n",
       "50%            NaN      NaN  7.078200e+04  3.000000e+00  1.000000e+03   \n",
       "75%            NaN      NaN  6.435050e+05  2.950000e+02  1.042775e+04   \n",
       "max            NaN      NaN  4.259884e+08  7.213802e+06  2.914272e+06   \n",
       "\n",
       "           new_deaths  total_vaccinations  people_vaccinated    population  \n",
       "count   196972.000000        4.926900e+04       4.736300e+04  2.004820e+05  \n",
       "unique            NaN                 NaN                NaN           NaN  \n",
       "top               NaN                 NaN                NaN           NaN  \n",
       "freq              NaN                 NaN                NaN           NaN  \n",
       "mean        67.466178        3.845796e+08       1.666400e+08  1.264788e+08  \n",
       "std        474.479657        1.227660e+09       5.358011e+08  5.329227e+08  \n",
       "min          0.000000        0.000000e+00       0.000000e+00  3.801000e+03  \n",
       "25%          0.000000        1.374793e+06       7.808840e+05  5.237980e+05  \n",
       "50%          0.000000        1.147100e+07       6.384926e+06  5.489744e+06  \n",
       "75%          3.000000        1.091824e+08       4.523782e+07  2.267376e+07  \n",
       "max      20625.000000        9.075492e+09       3.686377e+09  4.721383e+09  "
      ]
     },
     "metadata": {},
     "output_type": "display_data"
    }
   ],
   "source": [
    "# Select important columns to examine\n",
    "key_columns = [\n",
    "    'date', \n",
    "    'location', \n",
    "    'total_cases', \n",
    "    'new_cases', \n",
    "    'total_deaths', \n",
    "    'new_deaths',\n",
    "    'total_vaccinations',\n",
    "    'people_vaccinated',\n",
    "    'population'\n",
    "]\n",
    "\n",
    "print(\"\\n🔑 KEY COLUMNS SUMMARY:\")\n",
    "display(covid_df[key_columns].describe(include='all'))"
   ]
  },
  {
   "cell_type": "code",
   "execution_count": 6,
   "id": "3c4259fc-b1c4-4db2-a172-1e0f9ed43c90",
   "metadata": {},
   "outputs": [
    {
     "name": "stdout",
     "output_type": "stream",
     "text": [
      "Filtered to 4160 rows for selected countries\n",
      "After dropping rows with missing critical values: 3944 rows remain\n",
      "\n",
      "Missing values after cleaning:\n",
      "new_cases     0\n",
      "new_deaths    0\n",
      "dtype: int64\n",
      "\n",
      "Cleaned data sample:\n"
     ]
    },
    {
     "name": "stderr",
     "output_type": "stream",
     "text": [
      "/tmp/ipykernel_605/3235759284.py:22: SettingWithCopyWarning: \n",
      "A value is trying to be set on a copy of a slice from a DataFrame.\n",
      "Try using .loc[row_indexer,col_indexer] = value instead\n",
      "\n",
      "See the caveats in the documentation: https://pandas.pydata.org/pandas-docs/stable/user_guide/indexing.html#returning-a-view-versus-a-copy\n",
      "  clean_df['new_cases'] = clean_df['new_cases'].fillna(0)  # Replace NA with 0 for new cases\n",
      "/tmp/ipykernel_605/3235759284.py:23: SettingWithCopyWarning: \n",
      "A value is trying to be set on a copy of a slice from a DataFrame.\n",
      "Try using .loc[row_indexer,col_indexer] = value instead\n",
      "\n",
      "See the caveats in the documentation: https://pandas.pydata.org/pandas-docs/stable/user_guide/indexing.html#returning-a-view-versus-a-copy\n",
      "  clean_df['new_deaths'] = clean_df.groupby('location')['new_deaths'].transform(\n"
     ]
    },
    {
     "data": {
      "text/html": [
       "<div>\n",
       "<style scoped>\n",
       "    .dataframe tbody tr th:only-of-type {\n",
       "        vertical-align: middle;\n",
       "    }\n",
       "\n",
       "    .dataframe tbody tr th {\n",
       "        vertical-align: top;\n",
       "    }\n",
       "\n",
       "    .dataframe thead th {\n",
       "        text-align: right;\n",
       "    }\n",
       "</style>\n",
       "<table border=\"1\" class=\"dataframe\">\n",
       "  <thead>\n",
       "    <tr style=\"text-align: right;\">\n",
       "      <th></th>\n",
       "      <th>date</th>\n",
       "      <th>location</th>\n",
       "      <th>total_cases</th>\n",
       "      <th>new_cases</th>\n",
       "      <th>total_deaths</th>\n",
       "      <th>new_deaths</th>\n",
       "    </tr>\n",
       "  </thead>\n",
       "  <tbody>\n",
       "    <tr>\n",
       "      <th>139843</th>\n",
       "      <td>2020-03-13</td>\n",
       "      <td>India</td>\n",
       "      <td>81.0</td>\n",
       "      <td>8.0</td>\n",
       "      <td>1.0</td>\n",
       "      <td>1.0</td>\n",
       "    </tr>\n",
       "    <tr>\n",
       "      <th>139844</th>\n",
       "      <td>2020-03-14</td>\n",
       "      <td>India</td>\n",
       "      <td>84.0</td>\n",
       "      <td>3.0</td>\n",
       "      <td>2.0</td>\n",
       "      <td>1.0</td>\n",
       "    </tr>\n",
       "    <tr>\n",
       "      <th>139845</th>\n",
       "      <td>2020-03-15</td>\n",
       "      <td>India</td>\n",
       "      <td>107.0</td>\n",
       "      <td>23.0</td>\n",
       "      <td>2.0</td>\n",
       "      <td>0.0</td>\n",
       "    </tr>\n",
       "    <tr>\n",
       "      <th>139846</th>\n",
       "      <td>2020-03-16</td>\n",
       "      <td>India</td>\n",
       "      <td>114.0</td>\n",
       "      <td>7.0</td>\n",
       "      <td>2.0</td>\n",
       "      <td>0.0</td>\n",
       "    </tr>\n",
       "    <tr>\n",
       "      <th>139847</th>\n",
       "      <td>2020-03-17</td>\n",
       "      <td>India</td>\n",
       "      <td>137.0</td>\n",
       "      <td>23.0</td>\n",
       "      <td>3.0</td>\n",
       "      <td>1.0</td>\n",
       "    </tr>\n",
       "  </tbody>\n",
       "</table>\n",
       "</div>"
      ],
      "text/plain": [
       "             date location  total_cases  new_cases  total_deaths  new_deaths\n",
       "139843 2020-03-13    India         81.0        8.0           1.0         1.0\n",
       "139844 2020-03-14    India         84.0        3.0           2.0         1.0\n",
       "139845 2020-03-15    India        107.0       23.0           2.0         0.0\n",
       "139846 2020-03-16    India        114.0        7.0           2.0         0.0\n",
       "139847 2020-03-17    India        137.0       23.0           3.0         1.0"
      ]
     },
     "metadata": {},
     "output_type": "display_data"
    }
   ],
   "source": [
    "import pandas as pd\n",
    "\n",
    "# 1. Load the data (ensure this matches your filename)\n",
    "covid_df = pd.read_csv('owid-covid-data.csv')\n",
    "\n",
    "# 2. Filter for specific countries\n",
    "countries = ['Kenya', 'United States', 'India']  # Using official names from OWID\n",
    "filtered_df = covid_df[covid_df['location'].isin(countries)].copy()\n",
    "\n",
    "print(f\"Filtered to {len(filtered_df)} rows for selected countries\")\n",
    "\n",
    "# 3. Convert date column to datetime\n",
    "filtered_df['date'] = pd.to_datetime(filtered_df['date'])\n",
    "\n",
    "# 4. Drop rows with missing critical values\n",
    "critical_cols = ['date', 'location', 'total_cases', 'total_deaths']\n",
    "clean_df = filtered_df.dropna(subset=critical_cols)\n",
    "\n",
    "print(f\"After dropping rows with missing critical values: {len(clean_df)} rows remain\")\n",
    "\n",
    "# 5. Handle missing numeric values (example for new_cases)\n",
    "clean_df['new_cases'] = clean_df['new_cases'].fillna(0)  # Replace NA with 0 for new cases\n",
    "clean_df['new_deaths'] = clean_df.groupby('location')['new_deaths'].transform(\n",
    "    lambda x: x.fillna(x.mean()))  # Fill with country mean\n",
    "\n",
    "# Verify cleaning\n",
    "print(\"\\nMissing values after cleaning:\")\n",
    "print(clean_df[['new_cases', 'new_deaths']].isnull().sum())\n",
    "\n",
    "# Show cleaned data\n",
    "print(\"\\nCleaned data sample:\")\n",
    "display(clean_df[['date', 'location', 'total_cases', 'new_cases', 'total_deaths', 'new_deaths']].head())"
   ]
  },
  {
   "cell_type": "code",
   "execution_count": 9,
   "id": "71537edf-5e61-4b8a-854f-b679d7f919bc",
   "metadata": {},
   "outputs": [
    {
     "data": {
      "image/png": "[encoded data removed]",
      "text/plain": [
       "<Figure size 1400x1000 with 1 Axes>"
      ]
     },
     "metadata": {},
     "output_type": "display_data"
    }
   ],
   "source": [
    "import matplotlib.pyplot as plt\n",
    "import seaborn as sns\n",
    "from matplotlib.dates import DateFormatter\n",
    "\n",
    "# Set style for better visualizations\n",
    "sns.set(style=\"whitegrid\")\n",
    "plt.figure(figsize=(14, 10))\n",
    "\n",
    "## 1. Plot total cases over time\n",
    "plt.subplot(2, 2, 1)\n",
    "for country in clean_df['location'].unique():\n",
    "    country_data = clean_df[clean_df['location'] == country]\n",
    "    plt.plot(country_data['date'], country_data['total_cases'], label=country)\n",
    "plt.title('Total COVID-19 Cases Over Time')\n",
    "plt.xlabel('Date')\n",
    "plt.ylabel('Total Cases')\n",
    "plt.legend()\n",
    "plt.gca().xaxis.set_major_formatter(DateFormatter('%Y-%m'))"
   ]
  },
  {
   "cell_type": "code",
   "execution_count": 10,
   "id": "f2c059dd-5fe1-48c7-be49-caa9f74553c3",
   "metadata": {},
   "outputs": [
    {
     "data": {
      "image/png": "[encoded data removed]",
      "text/plain": [
       "<Figure size 640x480 with 1 Axes>"
      ]
     },
     "metadata": {},
     "output_type": "display_data"
    }
   ],
   "source": [
    "## 2. Plot total deaths over time\n",
    "plt.subplot(2, 2, 2)\n",
    "for country in clean_df['location'].unique():\n",
    "    country_data = clean_df[clean_df['location'] == country]\n",
    "    plt.plot(country_data['date'], country_data['total_deaths'], label=country)\n",
    "plt.title('Total COVID-19 Deaths Over Time')\n",
    "plt.xlabel('Date')\n",
    "plt.ylabel('Total Deaths')\n",
    "plt.legend()\n",
    "plt.gca().xaxis.set_major_formatter(DateFormatter('%Y-%m'))"
   ]
  },
  {
   "cell_type": "code",
   "execution_count": 11,
   "id": "742d3446-b052-48f9-a1da-a5558b9e4764",
   "metadata": {},
   "outputs": [
    {
     "data": {
      "image/png": "[encoded data removed]",
      "text/plain": [
       "<Figure size 640x480 with 1 Axes>"
      ]
     },
     "metadata": {},
     "output_type": "display_data"
    }
   ],
   "source": [
    "## 3. Compare daily new cases\n",
    "plt.subplot(2, 2, 3)\n",
    "sns.lineplot(data=clean_df, x='date', y='new_cases', hue='location')\n",
    "plt.title('Daily New COVID-19 Cases Comparison')\n",
    "plt.xlabel('Date')\n",
    "plt.ylabel('New Cases')\n",
    "plt.gca().xaxis.set_major_formatter(DateFormatter('%Y-%m'))\n"
   ]
  },
  {
   "cell_type": "code",
   "execution_count": 12,
   "id": "a71ad82c-6a2a-4d1c-8a40-8f8d270458f0",
   "metadata": {},
   "outputs": [
    {
     "name": "stderr",
     "output_type": "stream",
     "text": [
      "/tmp/ipykernel_605/240143843.py:2: SettingWithCopyWarning: \n",
      "A value is trying to be set on a copy of a slice from a DataFrame.\n",
      "Try using .loc[row_indexer,col_indexer] = value instead\n",
      "\n",
      "See the caveats in the documentation: https://pandas.pydata.org/pandas-docs/stable/user_guide/indexing.html#returning-a-view-versus-a-copy\n",
      "  clean_df['death_rate'] = (clean_df['total_deaths'] / clean_df['total_cases']) * 100\n"
     ]
    },
    {
     "data": {
      "image/png": "[encoded data removed]",
      "text/plain": [
       "<Figure size 640x480 with 1 Axes>"
      ]
     },
     "metadata": {},
     "output_type": "display_data"
    }
   ],
   "source": [
    "## 4. Calculate and visualize death rate\n",
    "clean_df['death_rate'] = (clean_df['total_deaths'] / clean_df['total_cases']) * 100\n",
    "\n",
    "plt.subplot(2, 2, 4)\n",
    "sns.barplot(data=clean_df.groupby('location')['death_rate'].mean().reset_index(), \n",
    "            x='location', y='death_rate', palette='viridis')\n",
    "plt.title('Average Death Rate by Country (%)')\n",
    "plt.xlabel('Country')\n",
    "plt.ylabel('Death Rate (%)')\n",
    "plt.xticks(rotation=45)\n",
    "\n",
    "plt.tight_layout()\n",
    "plt.show()"
   ]
  },
  {
   "cell_type": "code",
   "execution_count": 16,
   "id": "de160e54-6521-4fbb-9f40-aadb185c38ef",
   "metadata": {},
   "outputs": [
    {
     "data": {
      "image/png": "[encoded data removed]",
      "text/plain": [
       "<Figure size 800x600 with 2 Axes>"
      ]
     },
     "metadata": {},
     "output_type": "display_data"
    }
   ],
   "source": [
    "## Bonus: Top countries by total cases (using original data)\n",
    "if len(countries) > 3:  # Only if analyzing many countries\n",
    "    plt.figure(figsize=(10, 6))\n",
    "    top_countries = clean_df.groupby('location')['total_cases'].max().nlargest(10)\n",
    "    top_countries.plot(kind='bar', color=sns.color_palette(\"viridis\", len(top_countries)))\n",
    "    plt.title('Top 10 Countries by Total Cases')\n",
    "    plt.ylabel('Total Cases')\n",
    "    plt.xticks(rotation=45)\n",
    "    plt.show()\n",
    "\n",
    "## Bonus: Correlation heatmap (optional)\n",
    "plt.figure(figsize=(8, 6))\n",
    "numeric_cols = ['total_cases', 'total_deaths', 'new_cases', 'new_deaths', 'death_rate']\n",
    "sns.heatmap(clean_df[numeric_cols].corr(), annot=True, cmap='coolwarm', center=0)\n",
    "plt.title('Correlation Between COVID-19 Metrics')\n",
    "plt.show()"
   ]
  },
  {
   "cell_type": "code",
   "execution_count": 17,
   "id": "172dd3cb-bd10-42a8-aa5d-486dfcf8a917",
   "metadata": {},
   "outputs": [
    {
     "data": {
      "text/plain": [
       "(array([18628., 18748., 18871., 18993., 19113., 19236., 19358., 19478.,\n",
       "        19601.]),\n",
       " [Text(18628.0, 0, 'Jan 2021'),\n",
       "  Text(18748.0, 0, 'May 2021'),\n",
       "  Text(18871.0, 0, 'Sep 2021'),\n",
       "  Text(18993.0, 0, 'Jan 2022'),\n",
       "  Text(19113.0, 0, 'May 2022'),\n",
       "  Text(19236.0, 0, 'Sep 2022'),\n",
       "  Text(19358.0, 0, 'Jan 2023'),\n",
       "  Text(19478.0, 0, 'May 2023'),\n",
       "  Text(19601.0, 0, 'Sep 2023')])"
      ]
     },
     "execution_count": 17,
     "metadata": {},
     "output_type": "execute_result"
    },
    {
     "data": {
      "image/png": "[encoded data removed]",
      "text/plain": [
       "<Figure size 1500x600 with 1 Axes>"
      ]
     },
     "metadata": {},
     "output_type": "display_data"
    }
   ],
   "source": [
    "import matplotlib.pyplot as plt\n",
    "import seaborn as sns\n",
    "from matplotlib.dates import DateFormatter\n",
    "\n",
    "# Set style\n",
    "sns.set_style(\"whitegrid\")\n",
    "plt.figure(figsize=(15, 6))\n",
    "\n",
    "## 1. Cumulative Vaccinations Over Time\n",
    "plt.subplot(1, 2, 1)\n",
    "for country in clean_df['location'].unique():\n",
    "    country_data = clean_df[clean_df['location'] == country].dropna(subset=['total_vaccinations'])\n",
    "    if not country_data.empty:\n",
    "        plt.plot(country_data['date'], country_data['total_vaccinations'], \n",
    "                label=country, linewidth=2.5)\n",
    "        \n",
    "plt.title('Cumulative COVID-19 Vaccinations', fontsize=14, pad=20)\n",
    "plt.xlabel('Date', fontsize=12)\n",
    "plt.ylabel('Total Vaccinations', fontsize=12)\n",
    "plt.legend()\n",
    "plt.gca().xaxis.set_major_formatter(DateFormatter('%b %Y'))\n",
    "plt.xticks(rotation=45)\n"
   ]
  },
  {
   "cell_type": "code",
   "execution_count": 19,
   "id": "e41ebb98-b3a3-4e6b-8a35-1e61d864ac03",
   "metadata": {},
   "outputs": [
    {
     "name": "stderr",
     "output_type": "stream",
     "text": [
      "/tmp/ipykernel_605/3373522591.py:6: SettingWithCopyWarning: \n",
      "A value is trying to be set on a copy of a slice from a DataFrame.\n",
      "Try using .loc[row_indexer,col_indexer] = value instead\n",
      "\n",
      "See the caveats in the documentation: https://pandas.pydata.org/pandas-docs/stable/user_guide/indexing.html#returning-a-view-versus-a-copy\n",
      "  clean_df['pct_vaccinated'] = (clean_df['people_vaccinated'] / clean_df['population']) * 100\n"
     ]
    },
    {
     "data": {
      "image/png": "[encoded data removed]",
      "text/plain": [
       "<Figure size 640x480 with 1 Axes>"
      ]
     },
     "metadata": {},
     "output_type": "display_data"
    }
   ],
   "source": [
    "## 2. Percentage Vaccinated Population\n",
    "plt.subplot(1, 2, 2)\n",
    "\n",
    "# Calculate vaccination percentage (if people_vaccinated and population columns exist)\n",
    "if {'people_vaccinated', 'population'}.issubset(clean_df.columns):\n",
    "    clean_df['pct_vaccinated'] = (clean_df['people_vaccinated'] / clean_df['population']) * 100\n",
    "    \n",
    "    # Get latest data point for each country\n",
    "    latest_vax = clean_df.sort_values('date').groupby('location').last()\n",
    "    \n",
    "    sns.barplot(data=latest_vax.reset_index(), \n",
    "                x='location', \n",
    "                y='pct_vaccinated',\n",
    "                palette=\"viridis\")\n",
    "    plt.title('Percentage of Population Vaccinated', fontsize=14, pad=20)\n",
    "    plt.xlabel('Country', fontsize=12)\n",
    "    plt.ylabel('% Vaccinated', fontsize=12)\n",
    "    plt.xticks(rotation=45)\n",
    "    \n",
    "    # Add percentage labels\n",
    "    for i, p in enumerate(plt.gca().patches):\n",
    "        plt.gca().annotate(f\"{p.get_height():.1f}%\", \n",
    "                          (p.get_x() + p.get_width() / 2., p.get_height()),\n",
    "                          ha='center', va='center', \n",
    "                          xytext=(0, 5), \n",
    "                          textcoords='offset points')\n",
    "else:\n",
    "    plt.text(0.5, 0.5, 'Vaccination percentage data not available\\n(people_vaccinated/population columns missing)',\n",
    "            ha='center', va='center', fontsize=12)\n",
    "    plt.axis('off')\n",
    "plt.tight_layout()\n",
    "plt.show()\n",
    "    "
   ]
  },
  {
   "cell_type": "code",
   "execution_count": 21,
   "id": "63fa9b14-9ddb-4585-944d-d67a7723738a",
   "metadata": {},
   "outputs": [
    {
     "data": {
      "image/png": "[encoded data removed]",
      "text/plain": [
       "<Figure size 600x600 with 1 Axes>"
      ]
     },
     "metadata": {},
     "output_type": "display_data"
    }
   ],
   "source": [
    "## Optional: Pie Chart for Vaccinated vs Unvaccinated (for one country)\n",
    "if {'people_vaccinated', 'population'}.issubset(clean_df.columns):\n",
    "    sample_country = clean_df['location'].unique()[0]  # Take first country\n",
    "    latest = clean_df[clean_df['location'] == sample_country].sort_values('date').iloc[-1]\n",
    "    \n",
    "    vaccinated = latest['people_vaccinated']\n",
    "    unvaccinated = latest['population'] - vaccinated\n",
    "    \n",
    "    plt.figure(figsize=(6, 6))\n",
    "    plt.pie([vaccinated, unvaccinated],\n",
    "            labels=[f'Vaccinated\\n{vaccinated:,.0f} people', \n",
    "                   f'Unvaccinated\\n{unvaccinated:,.0f} people'],\n",
    "            autopct='%1.1f%%',\n",
    "            colors=['#2ecc71', '#e74c3c'],\n",
    "            startangle=90)\n",
    "    plt.title(f'Vaccination Status: {sample_country}\\nas of {latest[\"date\"].strftime(\"%Y-%m-%d\")}')\n",
    "    plt.show()\n",
    "    "
   ]
  },
  {
   "cell_type": "code",
   "execution_count": 23,
   "id": "6c98153c-7f83-4482-b29a-7c7f200e9d61",
   "metadata": {},
   "outputs": [
    {
     "data": {
      "application/vnd.plotly.v1+json": {
       "config": {
        "plotlyServerURL": "https://plot.ly"
       },
       "data": [
        {
         "coloraxis": "coloraxis",
         "geo": "geo",
         "hovertemplate": "<b>%{hovertext}</b><br><br>iso_code=%{location}<br>total_cases=%{z}<extra></extra>",
         "hovertext": [
          "Afghanistan",
          "Africa",
          "Albania",
          "Algeria",
          "American Samoa",
          "Andorra",
          "Angola",
          "Anguilla",
          "Antigua and Barbuda",
          "Argentina",
          "Armenia",
          "Aruba",
          "Asia",
          "Australia",
          "Austria",
          "Azerbaijan",
          "Bahamas",
          "Bahrain",
          "Bangladesh",
          "Barbados",
          "Belarus",
          "Belgium",
          "Belize",
          "Benin",
          "Bermuda",
          "Bhutan",
          "Bolivia",
          "Bonaire Sint Eustatius and Saba",
          "Bosnia and Herzegovina",
          "Botswana",
          "Brazil",
          "British Virgin Islands",
          "Brunei",
          "Bulgaria",
          "Burkina Faso",
          "Burundi",
          "Cambodia",
          "Cameroon",
          "Canada",
          "Cape Verde",
          "Cayman Islands",
          "Central African Republic",
          "Chad",
          "Chile",
          "China",
          "Colombia",
          "Comoros",
          "Congo",
          "Cook Islands",
          "Costa Rica",
          "Cote d'Ivoire",
          "Croatia",
          "Cuba",
          "Curacao",
          "Cyprus",
          "Czechia",
          "Democratic Republic of Congo",
          "Denmark",
          "Djibouti",
          "Dominica",
          "Dominican Republic",
          "Ecuador",
          "Egypt",
          "El Salvador",
          "England",
          "Equatorial Guinea",
          "Eritrea",
          "Estonia",
          "Eswatini",
          "Ethiopia",
          "Europe",
          "European Union",
          "Faeroe Islands",
          "Falkland Islands",
          "Fiji",
          "Finland",
          "France",
          "French Guiana",
          "French Polynesia",
          "Gabon",
          "Gambia",
          "Georgia",
          "Germany",
          "Ghana",
          "Gibraltar",
          "Greece",
          "Greenland",
          "Grenada",
          "Guadeloupe",
          "Guam",
          "Guatemala",
          "Guernsey",
          "Guinea",
          "Guinea-Bissau",
          "Guyana",
          "Haiti",
          "High income",
          "Honduras",
          "Hong Kong",
          "Hungary",
          "Iceland",
          "India",
          "Indonesia",
          "Iran",
          "Iraq",
          "Ireland",
          "Isle of Man",
          "Israel",
          "Italy",
          "Jamaica",
          "Japan",
          "Jersey",
          "Jordan",
          "Kazakhstan",
          "Kenya",
          "Kiribati",
          "Kosovo",
          "Kuwait",
          "Kyrgyzstan",
          "Laos",
          "Latvia",
          "Lebanon",
          "Lesotho",
          "Liberia",
          "Libya",
          "Liechtenstein",
          "Lithuania",
          "Low income",
          "Lower middle income",
          "Luxembourg",
          "Macao",
          "Madagascar",
          "Malawi",
          "Malaysia",
          "Maldives",
          "Mali",
          "Malta",
          "Marshall Islands",
          "Martinique",
          "Mauritania",
          "Mauritius",
          "Mayotte",
          "Mexico",
          "Micronesia (country)",
          "Moldova",
          "Monaco",
          "Mongolia",
          "Montenegro",
          "Montserrat",
          "Morocco",
          "Mozambique",
          "Myanmar",
          "Namibia",
          "Nauru",
          "Nepal",
          "Netherlands",
          "New Caledonia",
          "New Zealand",
          "Nicaragua",
          "Niger",
          "Nigeria",
          "Niue",
          "North America",
          "North Korea",
          "North Macedonia",
          "Northern Cyprus",
          "Northern Ireland",
          "Northern Mariana Islands",
          "Norway",
          "Oceania",
          "Oman",
          "Pakistan",
          "Palau",
          "Palestine",
          "Panama",
          "Papua New Guinea",
          "Paraguay",
          "Peru",
          "Philippines",
          "Pitcairn",
          "Poland",
          "Portugal",
          "Puerto Rico",
          "Qatar",
          "Reunion",
          "Romania",
          "Russia",
          "Rwanda",
          "Saint Barthelemy",
          "Saint Helena",
          "Saint Kitts and Nevis",
          "Saint Lucia",
          "Saint Martin (French part)",
          "Saint Pierre and Miquelon",
          "Saint Vincent and the Grenadines",
          "Samoa",
          "San Marino",
          "Sao Tome and Principe",
          "Saudi Arabia",
          "Scotland",
          "Senegal",
          "Serbia",
          "Seychelles",
          "Sierra Leone",
          "Singapore",
          "Sint Maarten (Dutch part)",
          "Slovakia",
          "Slovenia",
          "Solomon Islands",
          "Somalia",
          "South Africa",
          "South America",
          "South Korea",
          "South Sudan",
          "Spain",
          "Sri Lanka",
          "Sudan",
          "Suriname",
          "Sweden",
          "Switzerland",
          "Syria",
          "Taiwan",
          "Tajikistan",
          "Tanzania",
          "Thailand",
          "Timor",
          "Togo",
          "Tokelau",
          "Tonga",
          "Trinidad and Tobago",
          "Tunisia",
          "Turkey",
          "Turkmenistan",
          "Turks and Caicos Islands",
          "Tuvalu",
          "Uganda",
          "Ukraine",
          "United Arab Emirates",
          "United Kingdom",
          "United States",
          "United States Virgin Islands",
          "Upper middle income",
          "Uruguay",
          "Uzbekistan",
          "Vanuatu",
          "Vatican",
          "Venezuela",
          "Vietnam",
          "Wales",
          "Wallis and Futuna",
          "Western Sahara",
          "World",
          "Yemen",
          "Zambia",
          "Zimbabwe"
         ],
         "locations": [
          "AFG",
          "OWID_AFR",
          "ALB",
          "DZA",
          "ASM",
          "AND",
          "AGO",
          "AIA",
          "ATG",
          "ARG",
          "ARM",
          "ABW",
          "OWID_ASI",
          "AUS",
          "AUT",
          "AZE",
          "BHS",
          "BHR",
          "BGD",
          "BRB",
          "BLR",
          "BEL",
          "BLZ",
          "BEN",
          "BMU",
          "BTN",
          "BOL",
          "BES",
          "BIH",
          "BWA",
          "BRA",
          "VGB",
          "BRN",
          "BGR",
          "BFA",
          "BDI",
          "KHM",
          "CMR",
          "CAN",
          "CPV",
          "CYM",
          "CAF",
          "TCD",
          "CHL",
          "CHN",
          "COL",
          "COM",
          "COG",
          "COK",
          "CRI",
          "CIV",
          "HRV",
          "CUB",
          "CUW",
          "CYP",
          "CZE",
          "COD",
          "DNK",
          "DJI",
          "DMA",
          "DOM",
          "ECU",
          "EGY",
          "SLV",
          "OWID_ENG",
          "GNQ",
          "ERI",
          "EST",
          "SWZ",
          "ETH",
          "OWID_EUR",
          "OWID_EUN",
          "FRO",
          "FLK",
          "FJI",
          "FIN",
          "FRA",
          "GUF",
          "PYF",
          "GAB",
          "GMB",
          "GEO",
          "DEU",
          "GHA",
          "GIB",
          "GRC",
          "GRL",
          "GRD",
          "GLP",
          "GUM",
          "GTM",
          "GGY",
          "GIN",
          "GNB",
          "GUY",
          "HTI",
          "OWID_HIC",
          "HND",
          "HKG",
          "HUN",
          "ISL",
          "IND",
          "IDN",
          "IRN",
          "IRQ",
          "IRL",
          "IMN",
          "ISR",
          "ITA",
          "JAM",
          "JPN",
          "JEY",
          "JOR",
          "KAZ",
          "KEN",
          "KIR",
          "OWID_KOS",
          "KWT",
          "KGZ",
          "LAO",
          "LVA",
          "LBN",
          "LSO",
          "LBR",
          "LBY",
          "LIE",
          "LTU",
          "OWID_LIC",
          "OWID_LMC",
          "LUX",
          "MAC",
          "MDG",
          "MWI",
          "MYS",
          "MDV",
          "MLI",
          "MLT",
          "MHL",
          "MTQ",
          "MRT",
          "MUS",
          "MYT",
          "MEX",
          "FSM",
          "MDA",
          "MCO",
          "MNG",
          "MNE",
          "MSR",
          "MAR",
          "MOZ",
          "MMR",
          "NAM",
          "NRU",
          "NPL",
          "NLD",
          "NCL",
          "NZL",
          "NIC",
          "NER",
          "NGA",
          "NIU",
          "OWID_NAM",
          "PRK",
          "MKD",
          "OWID_CYN",
          "OWID_NIR",
          "MNP",
          "NOR",
          "OWID_OCE",
          "OMN",
          "PAK",
          "PLW",
          "PSE",
          "PAN",
          "PNG",
          "PRY",
          "PER",
          "PHL",
          "PCN",
          "POL",
          "PRT",
          "PRI",
          "QAT",
          "REU",
          "ROU",
          "RUS",
          "RWA",
          "BLM",
          "SHN",
          "KNA",
          "LCA",
          "MAF",
          "SPM",
          "VCT",
          "WSM",
          "SMR",
          "STP",
          "SAU",
          "OWID_SCT",
          "SEN",
          "SRB",
          "SYC",
          "SLE",
          "SGP",
          "SXM",
          "SVK",
          "SVN",
          "SLB",
          "SOM",
          "ZAF",
          "OWID_SAM",
          "KOR",
          "SSD",
          "ESP",
          "LKA",
          "SDN",
          "SUR",
          "SWE",
          "CHE",
          "SYR",
          "TWN",
          "TJK",
          "TZA",
          "THA",
          "TLS",
          "TGO",
          "TKL",
          "TON",
          "TTO",
          "TUN",
          "TUR",
          "TKM",
          "TCA",
          "TUV",
          "UGA",
          "UKR",
          "ARE",
          "GBR",
          "USA",
          "VIR",
          "OWID_UMC",
          "URY",
          "UZB",
          "VUT",
          "VAT",
          "VEN",
          "VNM",
          "OWID_WLS",
          "WLF",
          "ESH",
          "OWID_WRL",
          "YEM",
          "ZMB",
          "ZWE"
         ],
         "name": "",
         "type": "choropleth",
         "z": [
          226816,
          13113845,
          334090,
          271945,
          8359,
          48015,
          105972,
          3904,
          9106,
          10054576,
          450334,
          44224,
          300681974,
          11618144,
          6081287,
          833550,
          38084,
          696614,
          2045843,
          110074,
          994037,
          4817196,
          71060,
          28036,
          18860,
          62697,
          1209081,
          11922,
          403203,
          330298,
          37721749,
          7305,
          311905,
          1302188,
          22056,
          54366,
          138941,
          125090,
          4716205,
          64401,
          31472,
          15367,
          7698,
          5288843,
          99315684,
          6382432,
          9109,
          25196,
          7168,
          1238884,
          88338,
          1275762,
          1115103,
          45883,
          660854,
          4657581,
          99181,
          3417017,
          15690,
          15798,
          667074,
          1069139,
          516023,
          201808,
          null,
          17130,
          10189,
          602187,
          75052,
          501060,
          249783754,
          184210531,
          34658,
          1923,
          69047,
          1487090,
          38997490,
          98041,
          78642,
          48992,
          12626,
          1855289,
          38437756,
          171653,
          20550,
          5405742,
          11971,
          19693,
          203235,
          52032,
          1271070,
          35326,
          38563,
          9614,
          73388,
          34368,
          425988398,
          474587,
          null,
          2207969,
          209142,
          44999588,
          6813429,
          7619981,
          2465545,
          1722546,
          38008,
          4840714,
          26168412,
          156414,
          33803572,
          66391,
          1746997,
          1502857,
          343999,
          5085,
          274247,
          666432,
          88889,
          218876,
          976316,
          1239904,
          35836,
          7930,
          507269,
          21497,
          1333228,
          2319834,
          97423102,
          384378,
          null,
          68350,
          88986,
          5130847,
          186694,
          33158,
          120422,
          16138,
          230354,
          63774,
          309917,
          42027,
          7692397,
          26547,
          625153,
          17049,
          1011170,
          251280,
          1403,
          1277082,
          233654,
          641324,
          172121,
          5393,
          1003447,
          8618815,
          80064,
          2390777,
          16050,
          9515,
          267146,
          887,
          124492151,
          null,
          349104,
          null,
          null,
          14299,
          1489459,
          14499513,
          399449,
          1580631,
          6243,
          703228,
          1047587,
          46864,
          735897,
          4520727,
          4115714,
          4,
          6525385,
          5621015,
          1252713,
          514524,
          494595,
          3478091,
          23061960,
          133194,
          5507,
          2166,
          6607,
          30147,
          12324,
          3426,
          9644,
          16778,
          24697,
          6599,
          841469,
          null,
          89022,
          2560024,
          50937,
          7766,
          2626395,
          11051,
          1867647,
          1345384,
          21611,
          27334,
          4072533,
          68830317,
          34571873,
          18368,
          13980340,
          672593,
          63993,
          82588,
          2718433,
          4415674,
          57423,
          null,
          17786,
          43078,
          4757728,
          23460,
          39524,
          80,
          16839,
          191496,
          1153361,
          17004677,
          null,
          6630,
          2943,
          171871,
          5520483,
          1067030,
          24779150,
          103436829,
          25389,
          244463792,
          1039238,
          174123,
          12019,
          26,
          552695,
          11623987,
          null,
          3550,
          null,
          771407061,
          11945,
          349287,
          265808
         ]
        }
       ],
       "layout": {
        "autosize": true,
        "coloraxis": {
         "colorbar": {
          "title": {
           "text": "total_cases"
          }
         },
         "colorscale": [
          [
           0,
           "#0d0887"
          ],
          [
           0.1111111111111111,
           "#46039f"
          ],
          [
           0.2222222222222222,
           "#7201a8"
          ],
          [
           0.3333333333333333,
           "#9c179e"
          ],
          [
           0.4444444444444444,
           "#bd3786"
          ],
          [
           0.5555555555555556,
           "#d8576b"
          ],
          [
           0.6666666666666666,
           "#ed7953"
          ],
          [
           0.7777777777777778,
           "#fb9f3a"
          ],
          [
           0.8888888888888888,
           "#fdca26"
          ],
          [
           1,
           "#f0f921"
          ]
         ]
        },
        "geo": {
         "center": {
          "lat": -1.0503997647121686,
          "lon": -2.434165230697216
         },
         "domain": {
          "x": [
           0,
           1
          ],
          "y": [
           0,
           1
          ]
         },
         "projection": {
          "rotation": {
           "lon": -2.434165230697216
          },
          "scale": 0.9494034725295826,
          "type": "natural earth"
         }
        },
        "legend": {
         "tracegroupgap": 0
        },
        "margin": {
         "b": 0,
         "l": 0,
         "r": 0,
         "t": 40
        },
        "template": {
         "data": {
          "bar": [
           {
            "error_x": {
             "color": "#2a3f5f"
            },
            "error_y": {
             "color": "#2a3f5f"
            },
            "marker": {
             "line": {
              "color": "#E5ECF6",
              "width": 0.5
             },
             "pattern": {
              "fillmode": "overlay",
              "size": 10,
              "solidity": 0.2
             }
            },
            "type": "bar"
           }
          ],
          "barpolar": [
           {
            "marker": {
             "line": {
              "color": "#E5ECF6",
              "width": 0.5
             },
             "pattern": {
              "fillmode": "overlay",
              "size": 10,
              "solidity": 0.2
             }
            },
            "type": "barpolar"
           }
          ],
          "carpet": [
           {
            "aaxis": {
             "endlinecolor": "#2a3f5f",
             "gridcolor": "white",
             "linecolor": "white",
             "minorgridcolor": "white",
             "startlinecolor": "#2a3f5f"
            },
            "baxis": {
             "endlinecolor": "#2a3f5f",
             "gridcolor": "white",
             "linecolor": "white",
             "minorgridcolor": "white",
             "startlinecolor": "#2a3f5f"
            },
            "type": "carpet"
           }
          ],
          "choropleth": [
           {
            "colorbar": {
             "outlinewidth": 0,
             "ticks": ""
            },
            "type": "choropleth"
           }
          ],
          "contour": [
           {
            "colorbar": {
             "outlinewidth": 0,
             "ticks": ""
            },
            "colorscale": [
             [
              0,
              "#0d0887"
             ],
             [
              0.1111111111111111,
              "#46039f"
             ],
             [
              0.2222222222222222,
              "#7201a8"
             ],
             [
              0.3333333333333333,
              "#9c179e"
             ],
             [
              0.4444444444444444,
              "#bd3786"
             ],
             [
              0.5555555555555556,
              "#d8576b"
             ],
             [
              0.6666666666666666,
              "#ed7953"
             ],
             [
              0.7777777777777778,
              "#fb9f3a"
             ],
             [
              0.8888888888888888,
              "#fdca26"
             ],
             [
              1,
              "#f0f921"
             ]
            ],
            "type": "contour"
           }
          ],
          "contourcarpet": [
           {
            "colorbar": {
             "outlinewidth": 0,
             "ticks": ""
            },
            "type": "contourcarpet"
           }
          ],
          "heatmap": [
           {
            "colorbar": {
             "outlinewidth": 0,
             "ticks": ""
            },
            "colorscale": [
             [
              0,
              "#0d0887"
             ],
             [
              0.1111111111111111,
              "#46039f"
             ],
             [
              0.2222222222222222,
              "#7201a8"
             ],
             [
              0.3333333333333333,
              "#9c179e"
             ],
             [
              0.4444444444444444,
              "#bd3786"
             ],
             [
              0.5555555555555556,
              "#d8576b"
             ],
             [
              0.6666666666666666,
              "#ed7953"
             ],
             [
              0.7777777777777778,
              "#fb9f3a"
             ],
             [
              0.8888888888888888,
              "#fdca26"
             ],
             [
              1,
              "#f0f921"
             ]
            ],
            "type": "heatmap"
           }
          ],
          "heatmapgl": [
           {
            "colorbar": {
             "outlinewidth": 0,
             "ticks": ""
            },
            "colorscale": [
             [
              0,
              "#0d0887"
             ],
             [
              0.1111111111111111,
              "#46039f"
             ],
             [
              0.2222222222222222,
              "#7201a8"
             ],
             [
              0.3333333333333333,
              "#9c179e"
             ],
             [
              0.4444444444444444,
              "#bd3786"
             ],
             [
              0.5555555555555556,
              "#d8576b"
             ],
             [
              0.6666666666666666,
              "#ed7953"
             ],
             [
              0.7777777777777778,
              "#fb9f3a"
             ],
             [
              0.8888888888888888,
              "#fdca26"
             ],
             [
              1,
              "#f0f921"
             ]
            ],
            "type": "heatmapgl"
           }
          ],
          "histogram": [
           {
            "marker": {
             "pattern": {
              "fillmode": "overlay",
              "size": 10,
              "solidity": 0.2
             }
            },
            "type": "histogram"
           }
          ],
          "histogram2d": [
           {
            "colorbar": {
             "outlinewidth": 0,
             "ticks": ""
            },
            "colorscale": [
             [
              0,
              "#0d0887"
             ],
             [
              0.1111111111111111,
              "#46039f"
             ],
             [
              0.2222222222222222,
              "#7201a8"
             ],
             [
              0.3333333333333333,
              "#9c179e"
             ],
             [
              0.4444444444444444,
              "#bd3786"
             ],
             [
              0.5555555555555556,
              "#d8576b"
             ],
             [
              0.6666666666666666,
              "#ed7953"
             ],
             [
              0.7777777777777778,
              "#fb9f3a"
             ],
             [
              0.8888888888888888,
              "#fdca26"
             ],
             [
              1,
              "#f0f921"
             ]
            ],
            "type": "histogram2d"
           }
          ],
          "histogram2dcontour": [
           {
            "colorbar": {
             "outlinewidth": 0,
             "ticks": ""
            },
            "colorscale": [
             [
              0,
              "#0d0887"
             ],
             [
              0.1111111111111111,
              "#46039f"
             ],
             [
              0.2222222222222222,
              "#7201a8"
             ],
             [
              0.3333333333333333,
              "#9c179e"
             ],
             [
              0.4444444444444444,
              "#bd3786"
             ],
             [
              0.5555555555555556,
              "#d8576b"
             ],
             [
              0.6666666666666666,
              "#ed7953"
             ],
             [
              0.7777777777777778,
              "#fb9f3a"
             ],
             [
              0.8888888888888888,
              "#fdca26"
             ],
             [
              1,
              "#f0f921"
             ]
            ],
            "type": "histogram2dcontour"
           }
          ],
          "mesh3d": [
           {
            "colorbar": {
             "outlinewidth": 0,
             "ticks": ""
            },
            "type": "mesh3d"
           }
          ],
          "parcoords": [
           {
            "line": {
             "colorbar": {
              "outlinewidth": 0,
              "ticks": ""
             }
            },
            "type": "parcoords"
           }
          ],
          "pie": [
           {
            "automargin": true,
            "type": "pie"
           }
          ],
          "scatter": [
           {
            "fillpattern": {
             "fillmode": "overlay",
             "size": 10,
             "solidity": 0.2
            },
            "type": "scatter"
           }
          ],
          "scatter3d": [
           {
            "line": {
             "colorbar": {
              "outlinewidth": 0,
              "ticks": ""
             }
            },
            "marker": {
             "colorbar": {
              "outlinewidth": 0,
              "ticks": ""
             }
            },
            "type": "scatter3d"
           }
          ],
          "scattercarpet": [
           {
            "marker": {
             "colorbar": {
              "outlinewidth": 0,
              "ticks": ""
             }
            },
            "type": "scattercarpet"
           }
          ],
          "scattergeo": [
           {
            "marker": {
             "colorbar": {
              "outlinewidth": 0,
              "ticks": ""
             }
            },
            "type": "scattergeo"
           }
          ],
          "scattergl": [
           {
            "marker": {
             "colorbar": {
              "outlinewidth": 0,
              "ticks": ""
             }
            },
            "type": "scattergl"
           }
          ],
          "scattermapbox": [
           {
            "marker": {
             "colorbar": {
              "outlinewidth": 0,
              "ticks": ""
             }
            },
            "type": "scattermapbox"
           }
          ],
          "scatterpolar": [
           {
            "marker": {
             "colorbar": {
              "outlinewidth": 0,
              "ticks": ""
             }
            },
            "type": "scatterpolar"
           }
          ],
          "scatterpolargl": [
           {
            "marker": {
             "colorbar": {
              "outlinewidth": 0,
              "ticks": ""
             }
            },
            "type": "scatterpolargl"
           }
          ],
          "scatterternary": [
           {
            "marker": {
             "colorbar": {
              "outlinewidth": 0,
              "ticks": ""
             }
            },
            "type": "scatterternary"
           }
          ],
          "surface": [
           {
            "colorbar": {
             "outlinewidth": 0,
             "ticks": ""
            },
            "colorscale": [
             [
              0,
              "#0d0887"
             ],
             [
              0.1111111111111111,
              "#46039f"
             ],
             [
              0.2222222222222222,
              "#7201a8"
             ],
             [
              0.3333333333333333,
              "#9c179e"
             ],
             [
              0.4444444444444444,
              "#bd3786"
             ],
             [
              0.5555555555555556,
              "#d8576b"
             ],
             [
              0.6666666666666666,
              "#ed7953"
             ],
             [
              0.7777777777777778,
              "#fb9f3a"
             ],
             [
              0.8888888888888888,
              "#fdca26"
             ],
             [
              1,
              "#f0f921"
             ]
            ],
            "type": "surface"
           }
          ],
          "table": [
           {
            "cells": {
             "fill": {
              "color": "#EBF0F8"
             },
             "line": {
              "color": "white"
             }
            },
            "header": {
             "fill": {
              "color": "#C8D4E3"
             },
             "line": {
              "color": "white"
             }
            },
            "type": "table"
           }
          ]
         },
         "layout": {
          "annotationdefaults": {
           "arrowcolor": "#2a3f5f",
           "arrowhead": 0,
           "arrowwidth": 1
          },
          "autotypenumbers": "strict",
          "coloraxis": {
           "colorbar": {
            "outlinewidth": 0,
            "ticks": ""
           }
          },
          "colorscale": {
           "diverging": [
            [
             0,
             "#8e0152"
            ],
            [
             0.1,
             "#c51b7d"
            ],
            [
             0.2,
             "#de77ae"
            ],
            [
             0.3,
             "#f1b6da"
            ],
            [
             0.4,
             "#fde0ef"
            ],
            [
             0.5,
             "#f7f7f7"
            ],
            [
             0.6,
             "#e6f5d0"
            ],
            [
             0.7,
             "#b8e186"
            ],
            [
             0.8,
             "#7fbc41"
            ],
            [
             0.9,
             "#4d9221"
            ],
            [
             1,
             "#276419"
            ]
           ],
           "sequential": [
            [
             0,
             "#0d0887"
            ],
            [
             0.1111111111111111,
             "#46039f"
            ],
            [
             0.2222222222222222,
             "#7201a8"
            ],
            [
             0.3333333333333333,
             "#9c179e"
            ],
            [
             0.4444444444444444,
             "#bd3786"
            ],
            [
             0.5555555555555556,
             "#d8576b"
            ],
            [
             0.6666666666666666,
             "#ed7953"
            ],
            [
             0.7777777777777778,
             "#fb9f3a"
            ],
            [
             0.8888888888888888,
             "#fdca26"
            ],
            [
             1,
             "#f0f921"
            ]
           ],
           "sequentialminus": [
            [
             0,
             "#0d0887"
            ],
            [
             0.1111111111111111,
             "#46039f"
            ],
            [
             0.2222222222222222,
             "#7201a8"
            ],
            [
             0.3333333333333333,
             "#9c179e"
            ],
            [
             0.4444444444444444,
             "#bd3786"
            ],
            [
             0.5555555555555556,
             "#d8576b"
            ],
            [
             0.6666666666666666,
             "#ed7953"
            ],
            [
             0.7777777777777778,
             "#fb9f3a"
            ],
            [
             0.8888888888888888,
             "#fdca26"
            ],
            [
             1,
             "#f0f921"
            ]
           ]
          },
          "colorway": [
           "#636efa",
           "#EF553B",
           "#00cc96",
           "#ab63fa",
           "#FFA15A",
           "#19d3f3",
           "#FF6692",
           "#B6E880",
           "#FF97FF",
           "#FECB52"
          ],
          "font": {
           "color": "#2a3f5f"
          },
          "geo": {
           "bgcolor": "white",
           "lakecolor": "white",
           "landcolor": "#E5ECF6",
           "showlakes": true,
           "showland": true,
           "subunitcolor": "white"
          },
          "hoverlabel": {
           "align": "left"
          },
          "hovermode": "closest",
          "mapbox": {
           "style": "light"
          },
          "paper_bgcolor": "white",
          "plot_bgcolor": "#E5ECF6",
          "polar": {
           "angularaxis": {
            "gridcolor": "white",
            "linecolor": "white",
            "ticks": ""
           },
           "bgcolor": "#E5ECF6",
           "radialaxis": {
            "gridcolor": "white",
            "linecolor": "white",
            "ticks": ""
           }
          },
          "scene": {
           "xaxis": {
            "backgroundcolor": "#E5ECF6",
            "gridcolor": "white",
            "gridwidth": 2,
            "linecolor": "white",
            "showbackground": true,
            "ticks": "",
            "zerolinecolor": "white"
           },
           "yaxis": {
            "backgroundcolor": "#E5ECF6",
            "gridcolor": "white",
            "gridwidth": 2,
            "linecolor": "white",
            "showbackground": true,
            "ticks": "",
            "zerolinecolor": "white"
           },
           "zaxis": {
            "backgroundcolor": "#E5ECF6",
            "gridcolor": "white",
            "gridwidth": 2,
            "linecolor": "white",
            "showbackground": true,
            "ticks": "",
            "zerolinecolor": "white"
           }
          },
          "shapedefaults": {
           "line": {
            "color": "#2a3f5f"
           }
          },
          "ternary": {
           "aaxis": {
            "gridcolor": "white",
            "linecolor": "white",
            "ticks": ""
           },
           "baxis": {
            "gridcolor": "white",
            "linecolor": "white",
            "ticks": ""
           },
           "bgcolor": "#E5ECF6",
           "caxis": {
            "gridcolor": "white",
            "linecolor": "white",
            "ticks": ""
           }
          },
          "title": {
           "x": 0.05
          },
          "xaxis": {
           "automargin": true,
           "gridcolor": "white",
           "linecolor": "white",
           "ticks": "",
           "title": {
            "standoff": 15
           },
           "zerolinecolor": "white",
           "zerolinewidth": 2
          },
          "yaxis": {
           "automargin": true,
           "gridcolor": "white",
           "linecolor": "white",
           "ticks": "",
           "title": {
            "standoff": 15
           },
           "zerolinecolor": "white",
           "zerolinewidth": 2
          }
         }
        },
        "title": {
         "text": "Global COVID-19 Total Cases by Country"
        }
       }
      },
      "image/png": "[encoded data removed]",
      "text/html": [
       "<div>                            <div id=\"7780d2aa-0252-42ec-b6e6-60502c2cd669\" class=\"plotly-graph-div\" style=\"height:525px; width:100%;\"></div>            <script type=\"text/javascript\">                require([\"plotly\"], function(Plotly) {                    window.PLOTLYENV=window.PLOTLYENV || {};                                    if (document.getElementById(\"7780d2aa-0252-42ec-b6e6-60502c2cd669\")) {                    Plotly.newPlot(                        \"7780d2aa-0252-42ec-b6e6-60502c2cd669\",                        [{\"coloraxis\":\"coloraxis\",\"geo\":\"geo\",\"hovertemplate\":\"<b>%{hovertext}</b><br><br>iso_code=%{location}<br>total_cases=%{z}<extra></extra>\",\"hovertext\":[\"Afghanistan\",\"Africa\",\"Albania\",\"Algeria\",\"American Samoa\",\"Andorra\",\"Angola\",\"Anguilla\",\"Antigua and Barbuda\",\"Argentina\",\"Armenia\",\"Aruba\",\"Asia\",\"Australia\",\"Austria\",\"Azerbaijan\",\"Bahamas\",\"Bahrain\",\"Bangladesh\",\"Barbados\",\"Belarus\",\"Belgium\",\"Belize\",\"Benin\",\"Bermuda\",\"Bhutan\",\"Bolivia\",\"Bonaire Sint Eustatius and Saba\",\"Bosnia and Herzegovina\",\"Botswana\",\"Brazil\",\"British Virgin Islands\",\"Brunei\",\"Bulgaria\",\"Burkina Faso\",\"Burundi\",\"Cambodia\",\"Cameroon\",\"Canada\",\"Cape Verde\",\"Cayman Islands\",\"Central African Republic\",\"Chad\",\"Chile\",\"China\",\"Colombia\",\"Comoros\",\"Congo\",\"Cook Islands\",\"Costa Rica\",\"Cote d'Ivoire\",\"Croatia\",\"Cuba\",\"Curacao\",\"Cyprus\",\"Czechia\",\"Democratic Republic of Congo\",\"Denmark\",\"Djibouti\",\"Dominica\",\"Dominican Republic\",\"Ecuador\",\"Egypt\",\"El Salvador\",\"England\",\"Equatorial Guinea\",\"Eritrea\",\"Estonia\",\"Eswatini\",\"Ethiopia\",\"Europe\",\"European Union\",\"Faeroe Islands\",\"Falkland Islands\",\"Fiji\",\"Finland\",\"France\",\"French Guiana\",\"French Polynesia\",\"Gabon\",\"Gambia\",\"Georgia\",\"Germany\",\"Ghana\",\"Gibraltar\",\"Greece\",\"Greenland\",\"Grenada\",\"Guadeloupe\",\"Guam\",\"Guatemala\",\"Guernsey\",\"Guinea\",\"Guinea-Bissau\",\"Guyana\",\"Haiti\",\"High income\",\"Honduras\",\"Hong Kong\",\"Hungary\",\"Iceland\",\"India\",\"Indonesia\",\"Iran\",\"Iraq\",\"Ireland\",\"Isle of Man\",\"Israel\",\"Italy\",\"Jamaica\",\"Japan\",\"Jersey\",\"Jordan\",\"Kazakhstan\",\"Kenya\",\"Kiribati\",\"Kosovo\",\"Kuwait\",\"Kyrgyzstan\",\"Laos\",\"Latvia\",\"Lebanon\",\"Lesotho\",\"Liberia\",\"Libya\",\"Liechtenstein\",\"Lithuania\",\"Low income\",\"Lower middle income\",\"Luxembourg\",\"Macao\",\"Madagascar\",\"Malawi\",\"Malaysia\",\"Maldives\",\"Mali\",\"Malta\",\"Marshall Islands\",\"Martinique\",\"Mauritania\",\"Mauritius\",\"Mayotte\",\"Mexico\",\"Micronesia (country)\",\"Moldova\",\"Monaco\",\"Mongolia\",\"Montenegro\",\"Montserrat\",\"Morocco\",\"Mozambique\",\"Myanmar\",\"Namibia\",\"Nauru\",\"Nepal\",\"Netherlands\",\"New Caledonia\",\"New Zealand\",\"Nicaragua\",\"Niger\",\"Nigeria\",\"Niue\",\"North America\",\"North Korea\",\"North Macedonia\",\"Northern Cyprus\",\"Northern Ireland\",\"Northern Mariana Islands\",\"Norway\",\"Oceania\",\"Oman\",\"Pakistan\",\"Palau\",\"Palestine\",\"Panama\",\"Papua New Guinea\",\"Paraguay\",\"Peru\",\"Philippines\",\"Pitcairn\",\"Poland\",\"Portugal\",\"Puerto Rico\",\"Qatar\",\"Reunion\",\"Romania\",\"Russia\",\"Rwanda\",\"Saint Barthelemy\",\"Saint Helena\",\"Saint Kitts and Nevis\",\"Saint Lucia\",\"Saint Martin (French part)\",\"Saint Pierre and Miquelon\",\"Saint Vincent and the Grenadines\",\"Samoa\",\"San Marino\",\"Sao Tome and Principe\",\"Saudi Arabia\",\"Scotland\",\"Senegal\",\"Serbia\",\"Seychelles\",\"Sierra Leone\",\"Singapore\",\"Sint Maarten (Dutch part)\",\"Slovakia\",\"Slovenia\",\"Solomon Islands\",\"Somalia\",\"South Africa\",\"South America\",\"South Korea\",\"South Sudan\",\"Spain\",\"Sri Lanka\",\"Sudan\",\"Suriname\",\"Sweden\",\"Switzerland\",\"Syria\",\"Taiwan\",\"Tajikistan\",\"Tanzania\",\"Thailand\",\"Timor\",\"Togo\",\"Tokelau\",\"Tonga\",\"Trinidad and Tobago\",\"Tunisia\",\"Turkey\",\"Turkmenistan\",\"Turks and Caicos Islands\",\"Tuvalu\",\"Uganda\",\"Ukraine\",\"United Arab Emirates\",\"United Kingdom\",\"United States\",\"United States Virgin Islands\",\"Upper middle income\",\"Uruguay\",\"Uzbekistan\",\"Vanuatu\",\"Vatican\",\"Venezuela\",\"Vietnam\",\"Wales\",\"Wallis and Futuna\",\"Western Sahara\",\"World\",\"Yemen\",\"Zambia\",\"Zimbabwe\"],\"locations\":[\"AFG\",\"OWID_AFR\",\"ALB\",\"DZA\",\"ASM\",\"AND\",\"AGO\",\"AIA\",\"ATG\",\"ARG\",\"ARM\",\"ABW\",\"OWID_ASI\",\"AUS\",\"AUT\",\"AZE\",\"BHS\",\"BHR\",\"BGD\",\"BRB\",\"BLR\",\"BEL\",\"BLZ\",\"BEN\",\"BMU\",\"BTN\",\"BOL\",\"BES\",\"BIH\",\"BWA\",\"BRA\",\"VGB\",\"BRN\",\"BGR\",\"BFA\",\"BDI\",\"KHM\",\"CMR\",\"CAN\",\"CPV\",\"CYM\",\"CAF\",\"TCD\",\"CHL\",\"CHN\",\"COL\",\"COM\",\"COG\",\"COK\",\"CRI\",\"CIV\",\"HRV\",\"CUB\",\"CUW\",\"CYP\",\"CZE\",\"COD\",\"DNK\",\"DJI\",\"DMA\",\"DOM\",\"ECU\",\"EGY\",\"SLV\",\"OWID_ENG\",\"GNQ\",\"ERI\",\"EST\",\"SWZ\",\"ETH\",\"OWID_EUR\",\"OWID_EUN\",\"FRO\",\"FLK\",\"FJI\",\"FIN\",\"FRA\",\"GUF\",\"PYF\",\"GAB\",\"GMB\",\"GEO\",\"DEU\",\"GHA\",\"GIB\",\"GRC\",\"GRL\",\"GRD\",\"GLP\",\"GUM\",\"GTM\",\"GGY\",\"GIN\",\"GNB\",\"GUY\",\"HTI\",\"OWID_HIC\",\"HND\",\"HKG\",\"HUN\",\"ISL\",\"IND\",\"IDN\",\"IRN\",\"IRQ\",\"IRL\",\"IMN\",\"ISR\",\"ITA\",\"JAM\",\"JPN\",\"JEY\",\"JOR\",\"KAZ\",\"KEN\",\"KIR\",\"OWID_KOS\",\"KWT\",\"KGZ\",\"LAO\",\"LVA\",\"LBN\",\"LSO\",\"LBR\",\"LBY\",\"LIE\",\"LTU\",\"OWID_LIC\",\"OWID_LMC\",\"LUX\",\"MAC\",\"MDG\",\"MWI\",\"MYS\",\"MDV\",\"MLI\",\"MLT\",\"MHL\",\"MTQ\",\"MRT\",\"MUS\",\"MYT\",\"MEX\",\"FSM\",\"MDA\",\"MCO\",\"MNG\",\"MNE\",\"MSR\",\"MAR\",\"MOZ\",\"MMR\",\"NAM\",\"NRU\",\"NPL\",\"NLD\",\"NCL\",\"NZL\",\"NIC\",\"NER\",\"NGA\",\"NIU\",\"OWID_NAM\",\"PRK\",\"MKD\",\"OWID_CYN\",\"OWID_NIR\",\"MNP\",\"NOR\",\"OWID_OCE\",\"OMN\",\"PAK\",\"PLW\",\"PSE\",\"PAN\",\"PNG\",\"PRY\",\"PER\",\"PHL\",\"PCN\",\"POL\",\"PRT\",\"PRI\",\"QAT\",\"REU\",\"ROU\",\"RUS\",\"RWA\",\"BLM\",\"SHN\",\"KNA\",\"LCA\",\"MAF\",\"SPM\",\"VCT\",\"WSM\",\"SMR\",\"STP\",\"SAU\",\"OWID_SCT\",\"SEN\",\"SRB\",\"SYC\",\"SLE\",\"SGP\",\"SXM\",\"SVK\",\"SVN\",\"SLB\",\"SOM\",\"ZAF\",\"OWID_SAM\",\"KOR\",\"SSD\",\"ESP\",\"LKA\",\"SDN\",\"SUR\",\"SWE\",\"CHE\",\"SYR\",\"TWN\",\"TJK\",\"TZA\",\"THA\",\"TLS\",\"TGO\",\"TKL\",\"TON\",\"TTO\",\"TUN\",\"TUR\",\"TKM\",\"TCA\",\"TUV\",\"UGA\",\"UKR\",\"ARE\",\"GBR\",\"USA\",\"VIR\",\"OWID_UMC\",\"URY\",\"UZB\",\"VUT\",\"VAT\",\"VEN\",\"VNM\",\"OWID_WLS\",\"WLF\",\"ESH\",\"OWID_WRL\",\"YEM\",\"ZMB\",\"ZWE\"],\"name\":\"\",\"z\":[226816.0,13113845.0,334090.0,271945.0,8359.0,48015.0,105972.0,3904.0,9106.0,10054576.0,450334.0,44224.0,300681974.0,11618144.0,6081287.0,833550.0,38084.0,696614.0,2045843.0,110074.0,994037.0,4817196.0,71060.0,28036.0,18860.0,62697.0,1209081.0,11922.0,403203.0,330298.0,37721749.0,7305.0,311905.0,1302188.0,22056.0,54366.0,138941.0,125090.0,4716205.0,64401.0,31472.0,15367.0,7698.0,5288843.0,99315684.0,6382432.0,9109.0,25196.0,7168.0,1238884.0,88338.0,1275762.0,1115103.0,45883.0,660854.0,4657581.0,99181.0,3417017.0,15690.0,15798.0,667074.0,1069139.0,516023.0,201808.0,null,17130.0,10189.0,602187.0,75052.0,501060.0,249783754.0,184210531.0,34658.0,1923.0,69047.0,1487090.0,38997490.0,98041.0,78642.0,48992.0,12626.0,1855289.0,38437756.0,171653.0,20550.0,5405742.0,11971.0,19693.0,203235.0,52032.0,1271070.0,35326.0,38563.0,9614.0,73388.0,34368.0,425988398.0,474587.0,null,2207969.0,209142.0,44999588.0,6813429.0,7619981.0,2465545.0,1722546.0,38008.0,4840714.0,26168412.0,156414.0,33803572.0,66391.0,1746997.0,1502857.0,343999.0,5085.0,274247.0,666432.0,88889.0,218876.0,976316.0,1239904.0,35836.0,7930.0,507269.0,21497.0,1333228.0,2319834.0,97423102.0,384378.0,null,68350.0,88986.0,5130847.0,186694.0,33158.0,120422.0,16138.0,230354.0,63774.0,309917.0,42027.0,7692397.0,26547.0,625153.0,17049.0,1011170.0,251280.0,1403.0,1277082.0,233654.0,641324.0,172121.0,5393.0,1003447.0,8618815.0,80064.0,2390777.0,16050.0,9515.0,267146.0,887.0,124492151.0,null,349104.0,null,null,14299.0,1489459.0,14499513.0,399449.0,1580631.0,6243.0,703228.0,1047587.0,46864.0,735897.0,4520727.0,4115714.0,4.0,6525385.0,5621015.0,1252713.0,514524.0,494595.0,3478091.0,23061960.0,133194.0,5507.0,2166.0,6607.0,30147.0,12324.0,3426.0,9644.0,16778.0,24697.0,6599.0,841469.0,null,89022.0,2560024.0,50937.0,7766.0,2626395.0,11051.0,1867647.0,1345384.0,21611.0,27334.0,4072533.0,68830317.0,34571873.0,18368.0,13980340.0,672593.0,63993.0,82588.0,2718433.0,4415674.0,57423.0,null,17786.0,43078.0,4757728.0,23460.0,39524.0,80.0,16839.0,191496.0,1153361.0,17004677.0,null,6630.0,2943.0,171871.0,5520483.0,1067030.0,24779150.0,103436829.0,25389.0,244463792.0,1039238.0,174123.0,12019.0,26.0,552695.0,11623987.0,null,3550.0,null,771407061.0,11945.0,349287.0,265808.0],\"type\":\"choropleth\"}],                        {\"template\":{\"data\":{\"histogram2dcontour\":[{\"type\":\"histogram2dcontour\",\"colorbar\":{\"outlinewidth\":0,\"ticks\":\"\"},\"colorscale\":[[0.0,\"#0d0887\"],[0.1111111111111111,\"#46039f\"],[0.2222222222222222,\"#7201a8\"],[0.3333333333333333,\"#9c179e\"],[0.4444444444444444,\"#bd3786\"],[0.5555555555555556,\"#d8576b\"],[0.6666666666666666,\"#ed7953\"],[0.7777777777777778,\"#fb9f3a\"],[0.8888888888888888,\"#fdca26\"],[1.0,\"#f0f921\"]]}],\"choropleth\":[{\"type\":\"choropleth\",\"colorbar\":{\"outlinewidth\":0,\"ticks\":\"\"}}],\"histogram2d\":[{\"type\":\"histogram2d\",\"colorbar\":{\"outlinewidth\":0,\"ticks\":\"\"},\"colorscale\":[[0.0,\"#0d0887\"],[0.1111111111111111,\"#46039f\"],[0.2222222222222222,\"#7201a8\"],[0.3333333333333333,\"#9c179e\"],[0.4444444444444444,\"#bd3786\"],[0.5555555555555556,\"#d8576b\"],[0.6666666666666666,\"#ed7953\"],[0.7777777777777778,\"#fb9f3a\"],[0.8888888888888888,\"#fdca26\"],[1.0,\"#f0f921\"]]}],\"heatmap\":[{\"type\":\"heatmap\",\"colorbar\":{\"outlinewidth\":0,\"ticks\":\"\"},\"colorscale\":[[0.0,\"#0d0887\"],[0.1111111111111111,\"#46039f\"],[0.2222222222222222,\"#7201a8\"],[0.3333333333333333,\"#9c179e\"],[0.4444444444444444,\"#bd3786\"],[0.5555555555555556,\"#d8576b\"],[0.6666666666666666,\"#ed7953\"],[0.7777777777777778,\"#fb9f3a\"],[0.8888888888888888,\"#fdca26\"],[1.0,\"#f0f921\"]]}],\"heatmapgl\":[{\"type\":\"heatmapgl\",\"colorbar\":{\"outlinewidth\":0,\"ticks\":\"\"},\"colorscale\":[[0.0,\"#0d0887\"],[0.1111111111111111,\"#46039f\"],[0.2222222222222222,\"#7201a8\"],[0.3333333333333333,\"#9c179e\"],[0.4444444444444444,\"#bd3786\"],[0.5555555555555556,\"#d8576b\"],[0.6666666666666666,\"#ed7953\"],[0.7777777777777778,\"#fb9f3a\"],[0.8888888888888888,\"#fdca26\"],[1.0,\"#f0f921\"]]}],\"contourcarpet\":[{\"type\":\"contourcarpet\",\"colorbar\":{\"outlinewidth\":0,\"ticks\":\"\"}}],\"contour\":[{\"type\":\"contour\",\"colorbar\":{\"outlinewidth\":0,\"ticks\":\"\"},\"colorscale\":[[0.0,\"#0d0887\"],[0.1111111111111111,\"#46039f\"],[0.2222222222222222,\"#7201a8\"],[0.3333333333333333,\"#9c179e\"],[0.4444444444444444,\"#bd3786\"],[0.5555555555555556,\"#d8576b\"],[0.6666666666666666,\"#ed7953\"],[0.7777777777777778,\"#fb9f3a\"],[0.8888888888888888,\"#fdca26\"],[1.0,\"#f0f921\"]]}],\"surface\":[{\"type\":\"surface\",\"colorbar\":{\"outlinewidth\":0,\"ticks\":\"\"},\"colorscale\":[[0.0,\"#0d0887\"],[0.1111111111111111,\"#46039f\"],[0.2222222222222222,\"#7201a8\"],[0.3333333333333333,\"#9c179e\"],[0.4444444444444444,\"#bd3786\"],[0.5555555555555556,\"#d8576b\"],[0.6666666666666666,\"#ed7953\"],[0.7777777777777778,\"#fb9f3a\"],[0.8888888888888888,\"#fdca26\"],[1.0,\"#f0f921\"]]}],\"mesh3d\":[{\"type\":\"mesh3d\",\"colorbar\":{\"outlinewidth\":0,\"ticks\":\"\"}}],\"scatter\":[{\"fillpattern\":{\"fillmode\":\"overlay\",\"size\":10,\"solidity\":0.2},\"type\":\"scatter\"}],\"parcoords\":[{\"type\":\"parcoords\",\"line\":{\"colorbar\":{\"outlinewidth\":0,\"ticks\":\"\"}}}],\"scatterpolargl\":[{\"type\":\"scatterpolargl\",\"marker\":{\"colorbar\":{\"outlinewidth\":0,\"ticks\":\"\"}}}],\"bar\":[{\"error_x\":{\"color\":\"#2a3f5f\"},\"error_y\":{\"color\":\"#2a3f5f\"},\"marker\":{\"line\":{\"color\":\"#E5ECF6\",\"width\":0.5},\"pattern\":{\"fillmode\":\"overlay\",\"size\":10,\"solidity\":0.2}},\"type\":\"bar\"}],\"scattergeo\":[{\"type\":\"scattergeo\",\"marker\":{\"colorbar\":{\"outlinewidth\":0,\"ticks\":\"\"}}}],\"scatterpolar\":[{\"type\":\"scatterpolar\",\"marker\":{\"colorbar\":{\"outlinewidth\":0,\"ticks\":\"\"}}}],\"histogram\":[{\"marker\":{\"pattern\":{\"fillmode\":\"overlay\",\"size\":10,\"solidity\":0.2}},\"type\":\"histogram\"}],\"scattergl\":[{\"type\":\"scattergl\",\"marker\":{\"colorbar\":{\"outlinewidth\":0,\"ticks\":\"\"}}}],\"scatter3d\":[{\"type\":\"scatter3d\",\"line\":{\"colorbar\":{\"outlinewidth\":0,\"ticks\":\"\"}},\"marker\":{\"colorbar\":{\"outlinewidth\":0,\"ticks\":\"\"}}}],\"scattermapbox\":[{\"type\":\"scattermapbox\",\"marker\":{\"colorbar\":{\"outlinewidth\":0,\"ticks\":\"\"}}}],\"scatterternary\":[{\"type\":\"scatterternary\",\"marker\":{\"colorbar\":{\"outlinewidth\":0,\"ticks\":\"\"}}}],\"scattercarpet\":[{\"type\":\"scattercarpet\",\"marker\":{\"colorbar\":{\"outlinewidth\":0,\"ticks\":\"\"}}}],\"carpet\":[{\"aaxis\":{\"endlinecolor\":\"#2a3f5f\",\"gridcolor\":\"white\",\"linecolor\":\"white\",\"minorgridcolor\":\"white\",\"startlinecolor\":\"#2a3f5f\"},\"baxis\":{\"endlinecolor\":\"#2a3f5f\",\"gridcolor\":\"white\",\"linecolor\":\"white\",\"minorgridcolor\":\"white\",\"startlinecolor\":\"#2a3f5f\"},\"type\":\"carpet\"}],\"table\":[{\"cells\":{\"fill\":{\"color\":\"#EBF0F8\"},\"line\":{\"color\":\"white\"}},\"header\":{\"fill\":{\"color\":\"#C8D4E3\"},\"line\":{\"color\":\"white\"}},\"type\":\"table\"}],\"barpolar\":[{\"marker\":{\"line\":{\"color\":\"#E5ECF6\",\"width\":0.5},\"pattern\":{\"fillmode\":\"overlay\",\"size\":10,\"solidity\":0.2}},\"type\":\"barpolar\"}],\"pie\":[{\"automargin\":true,\"type\":\"pie\"}]},\"layout\":{\"autotypenumbers\":\"strict\",\"colorway\":[\"#636efa\",\"#EF553B\",\"#00cc96\",\"#ab63fa\",\"#FFA15A\",\"#19d3f3\",\"#FF6692\",\"#B6E880\",\"#FF97FF\",\"#FECB52\"],\"font\":{\"color\":\"#2a3f5f\"},\"hovermode\":\"closest\",\"hoverlabel\":{\"align\":\"left\"},\"paper_bgcolor\":\"white\",\"plot_bgcolor\":\"#E5ECF6\",\"polar\":{\"bgcolor\":\"#E5ECF6\",\"angularaxis\":{\"gridcolor\":\"white\",\"linecolor\":\"white\",\"ticks\":\"\"},\"radialaxis\":{\"gridcolor\":\"white\",\"linecolor\":\"white\",\"ticks\":\"\"}},\"ternary\":{\"bgcolor\":\"#E5ECF6\",\"aaxis\":{\"gridcolor\":\"white\",\"linecolor\":\"white\",\"ticks\":\"\"},\"baxis\":{\"gridcolor\":\"white\",\"linecolor\":\"white\",\"ticks\":\"\"},\"caxis\":{\"gridcolor\":\"white\",\"linecolor\":\"white\",\"ticks\":\"\"}},\"coloraxis\":{\"colorbar\":{\"outlinewidth\":0,\"ticks\":\"\"}},\"colorscale\":{\"sequential\":[[0.0,\"#0d0887\"],[0.1111111111111111,\"#46039f\"],[0.2222222222222222,\"#7201a8\"],[0.3333333333333333,\"#9c179e\"],[0.4444444444444444,\"#bd3786\"],[0.5555555555555556,\"#d8576b\"],[0.6666666666666666,\"#ed7953\"],[0.7777777777777778,\"#fb9f3a\"],[0.8888888888888888,\"#fdca26\"],[1.0,\"#f0f921\"]],\"sequentialminus\":[[0.0,\"#0d0887\"],[0.1111111111111111,\"#46039f\"],[0.2222222222222222,\"#7201a8\"],[0.3333333333333333,\"#9c179e\"],[0.4444444444444444,\"#bd3786\"],[0.5555555555555556,\"#d8576b\"],[0.6666666666666666,\"#ed7953\"],[0.7777777777777778,\"#fb9f3a\"],[0.8888888888888888,\"#fdca26\"],[1.0,\"#f0f921\"]],\"diverging\":[[0,\"#8e0152\"],[0.1,\"#c51b7d\"],[0.2,\"#de77ae\"],[0.3,\"#f1b6da\"],[0.4,\"#fde0ef\"],[0.5,\"#f7f7f7\"],[0.6,\"#e6f5d0\"],[0.7,\"#b8e186\"],[0.8,\"#7fbc41\"],[0.9,\"#4d9221\"],[1,\"#276419\"]]},\"xaxis\":{\"gridcolor\":\"white\",\"linecolor\":\"white\",\"ticks\":\"\",\"title\":{\"standoff\":15},\"zerolinecolor\":\"white\",\"automargin\":true,\"zerolinewidth\":2},\"yaxis\":{\"gridcolor\":\"white\",\"linecolor\":\"white\",\"ticks\":\"\",\"title\":{\"standoff\":15},\"zerolinecolor\":\"white\",\"automargin\":true,\"zerolinewidth\":2},\"scene\":{\"xaxis\":{\"backgroundcolor\":\"#E5ECF6\",\"gridcolor\":\"white\",\"linecolor\":\"white\",\"showbackground\":true,\"ticks\":\"\",\"zerolinecolor\":\"white\",\"gridwidth\":2},\"yaxis\":{\"backgroundcolor\":\"#E5ECF6\",\"gridcolor\":\"white\",\"linecolor\":\"white\",\"showbackground\":true,\"ticks\":\"\",\"zerolinecolor\":\"white\",\"gridwidth\":2},\"zaxis\":{\"backgroundcolor\":\"#E5ECF6\",\"gridcolor\":\"white\",\"linecolor\":\"white\",\"showbackground\":true,\"ticks\":\"\",\"zerolinecolor\":\"white\",\"gridwidth\":2}},\"shapedefaults\":{\"line\":{\"color\":\"#2a3f5f\"}},\"annotationdefaults\":{\"arrowcolor\":\"#2a3f5f\",\"arrowhead\":0,\"arrowwidth\":1},\"geo\":{\"bgcolor\":\"white\",\"landcolor\":\"#E5ECF6\",\"subunitcolor\":\"white\",\"showland\":true,\"showlakes\":true,\"lakecolor\":\"white\"},\"title\":{\"x\":0.05},\"mapbox\":{\"style\":\"light\"}}},\"geo\":{\"domain\":{\"x\":[0.0,1.0],\"y\":[0.0,1.0]},\"projection\":{\"type\":\"natural earth\"},\"center\":{}},\"coloraxis\":{\"colorbar\":{\"title\":{\"text\":\"total_cases\"}},\"colorscale\":[[0.0,\"#0d0887\"],[0.1111111111111111,\"#46039f\"],[0.2222222222222222,\"#7201a8\"],[0.3333333333333333,\"#9c179e\"],[0.4444444444444444,\"#bd3786\"],[0.5555555555555556,\"#d8576b\"],[0.6666666666666666,\"#ed7953\"],[0.7777777777777778,\"#fb9f3a\"],[0.8888888888888888,\"#fdca26\"],[1.0,\"#f0f921\"]]},\"legend\":{\"tracegroupgap\":0},\"title\":{\"text\":\"Global COVID-19 Total Cases by Country\"},\"margin\":{\"r\":0,\"t\":40,\"l\":0,\"b\":0}},                        {\"responsive\": true}                    ).then(function(){\n",
       "                            \n",
       "var gd = document.getElementById('7780d2aa-0252-42ec-b6e6-60502c2cd669');\n",
       "var x = new MutationObserver(function (mutations, observer) {{\n",
       "        var display = window.getComputedStyle(gd).display;\n",
       "        if (!display || display === 'none') {{\n",
       "            console.log([gd, 'removed!']);\n",
       "            Plotly.purge(gd);\n",
       "            observer.disconnect();\n",
       "        }}\n",
       "}});\n",
       "\n",
       "// Listen for the removal of the full notebook cells\n",
       "var notebookContainer = gd.closest('#notebook-container');\n",
       "if (notebookContainer) {{\n",
       "    x.observe(notebookContainer, {childList: true});\n",
       "}}\n",
       "\n",
       "// Listen for the clearing of the current output cell\n",
       "var outputEl = gd.closest('.output');\n",
       "if (outputEl) {{\n",
       "    x.observe(outputEl, {childList: true});\n",
       "}}\n",
       "\n",
       "                        })                };                });            </script>        </div>"
      ]
     },
     "metadata": {},
     "output_type": "display_data"
    }
   ],
   "source": [
    "import plotly.express as px\n",
    "\n",
    "# 1. Prepare the data - get latest record for each country\n",
    "latest_data = covid_df.sort_values('date').groupby('location').last().reset_index()\n",
    "\n",
    "# 2. Create choropleth map for total cases\n",
    "fig = px.choropleth(latest_data,\n",
    "                    locations=\"iso_code\",  # Column containing country codes\n",
    "                    color=\"total_cases\",   # Values to color by\n",
    "                    hover_name=\"location\", # Show country name on hover\n",
    "                    color_continuous_scale=px.colors.sequential.Plasma,\n",
    "                    title=\"Global COVID-19 Total Cases by Country\",\n",
    "                    projection=\"natural earth\")\n",
    "\n",
    "fig.update_layout(margin={\"r\":0,\"t\":40,\"l\":0,\"b\":0})\n",
    "fig.show()\n",
    "\n"
   ]
  },
  {
   "cell_type": "code",
   "execution_count": 24,
   "id": "441a21ec-7769-454a-ae9d-8cce4f2a7c84",
   "metadata": {},
   "outputs": [
    {
     "data": {
      "application/vnd.plotly.v1+json": {
       "config": {
        "plotlyServerURL": "https://plot.ly"
       },
       "data": [
        {
         "coloraxis": "coloraxis",
         "geo": "geo",
         "hovertemplate": "<b>%{hovertext}</b><br><br>iso_code=%{location}<br>people_vaccinated_per_hundred=%{z}<extra></extra>",
         "hovertext": [
          "Afghanistan",
          "Africa",
          "Albania",
          "Algeria",
          "American Samoa",
          "Andorra",
          "Angola",
          "Anguilla",
          "Antigua and Barbuda",
          "Argentina",
          "Armenia",
          "Aruba",
          "Asia",
          "Australia",
          "Austria",
          "Azerbaijan",
          "Bahamas",
          "Bahrain",
          "Bangladesh",
          "Barbados",
          "Belarus",
          "Belgium",
          "Belize",
          "Benin",
          "Bermuda",
          "Bhutan",
          "Bolivia",
          "Bonaire Sint Eustatius and Saba",
          "Bosnia and Herzegovina",
          "Botswana",
          "Brazil",
          "British Virgin Islands",
          "Brunei",
          "Bulgaria",
          "Burkina Faso",
          "Burundi",
          "Cambodia",
          "Cameroon",
          "Canada",
          "Cape Verde",
          "Cayman Islands",
          "Central African Republic",
          "Chad",
          "Chile",
          "China",
          "Colombia",
          "Comoros",
          "Congo",
          "Cook Islands",
          "Costa Rica",
          "Cote d'Ivoire",
          "Croatia",
          "Cuba",
          "Curacao",
          "Cyprus",
          "Czechia",
          "Democratic Republic of Congo",
          "Denmark",
          "Djibouti",
          "Dominica",
          "Dominican Republic",
          "Ecuador",
          "Egypt",
          "El Salvador",
          "England",
          "Equatorial Guinea",
          "Eritrea",
          "Estonia",
          "Eswatini",
          "Ethiopia",
          "Europe",
          "European Union",
          "Faeroe Islands",
          "Falkland Islands",
          "Fiji",
          "Finland",
          "France",
          "French Guiana",
          "French Polynesia",
          "Gabon",
          "Gambia",
          "Georgia",
          "Germany",
          "Ghana",
          "Gibraltar",
          "Greece",
          "Greenland",
          "Grenada",
          "Guadeloupe",
          "Guam",
          "Guatemala",
          "Guernsey",
          "Guinea",
          "Guinea-Bissau",
          "Guyana",
          "Haiti",
          "High income",
          "Honduras",
          "Hong Kong",
          "Hungary",
          "Iceland",
          "India",
          "Indonesia",
          "Iran",
          "Iraq",
          "Ireland",
          "Isle of Man",
          "Israel",
          "Italy",
          "Jamaica",
          "Japan",
          "Jersey",
          "Jordan",
          "Kazakhstan",
          "Kenya",
          "Kiribati",
          "Kosovo",
          "Kuwait",
          "Kyrgyzstan",
          "Laos",
          "Latvia",
          "Lebanon",
          "Lesotho",
          "Liberia",
          "Libya",
          "Liechtenstein",
          "Lithuania",
          "Low income",
          "Lower middle income",
          "Luxembourg",
          "Macao",
          "Madagascar",
          "Malawi",
          "Malaysia",
          "Maldives",
          "Mali",
          "Malta",
          "Marshall Islands",
          "Martinique",
          "Mauritania",
          "Mauritius",
          "Mayotte",
          "Mexico",
          "Micronesia (country)",
          "Moldova",
          "Monaco",
          "Mongolia",
          "Montenegro",
          "Montserrat",
          "Morocco",
          "Mozambique",
          "Myanmar",
          "Namibia",
          "Nauru",
          "Nepal",
          "Netherlands",
          "New Caledonia",
          "New Zealand",
          "Nicaragua",
          "Niger",
          "Nigeria",
          "Niue",
          "North America",
          "North Korea",
          "North Macedonia",
          "Northern Cyprus",
          "Northern Ireland",
          "Northern Mariana Islands",
          "Norway",
          "Oceania",
          "Oman",
          "Pakistan",
          "Palau",
          "Palestine",
          "Panama",
          "Papua New Guinea",
          "Paraguay",
          "Peru",
          "Philippines",
          "Pitcairn",
          "Poland",
          "Portugal",
          "Puerto Rico",
          "Qatar",
          "Reunion",
          "Romania",
          "Russia",
          "Rwanda",
          "Saint Barthelemy",
          "Saint Helena",
          "Saint Kitts and Nevis",
          "Saint Lucia",
          "Saint Martin (French part)",
          "Saint Pierre and Miquelon",
          "Saint Vincent and the Grenadines",
          "Samoa",
          "San Marino",
          "Sao Tome and Principe",
          "Saudi Arabia",
          "Scotland",
          "Senegal",
          "Serbia",
          "Seychelles",
          "Sierra Leone",
          "Singapore",
          "Sint Maarten (Dutch part)",
          "Slovakia",
          "Slovenia",
          "Solomon Islands",
          "Somalia",
          "South Africa",
          "South America",
          "South Korea",
          "South Sudan",
          "Spain",
          "Sri Lanka",
          "Sudan",
          "Suriname",
          "Sweden",
          "Switzerland",
          "Syria",
          "Taiwan",
          "Tajikistan",
          "Tanzania",
          "Thailand",
          "Timor",
          "Togo",
          "Tokelau",
          "Tonga",
          "Trinidad and Tobago",
          "Tunisia",
          "Turkey",
          "Turkmenistan",
          "Turks and Caicos Islands",
          "Tuvalu",
          "Uganda",
          "Ukraine",
          "United Arab Emirates",
          "United Kingdom",
          "United States",
          "United States Virgin Islands",
          "Upper middle income",
          "Uruguay",
          "Uzbekistan",
          "Vanuatu",
          "Vatican",
          "Venezuela",
          "Vietnam",
          "Wales",
          "Wallis and Futuna",
          "Western Sahara",
          "World",
          "Yemen",
          "Zambia",
          "Zimbabwe"
         ],
         "locations": [
          "AFG",
          "OWID_AFR",
          "ALB",
          "DZA",
          "ASM",
          "AND",
          "AGO",
          "AIA",
          "ATG",
          "ARG",
          "ARM",
          "ABW",
          "OWID_ASI",
          "AUS",
          "AUT",
          "AZE",
          "BHS",
          "BHR",
          "BGD",
          "BRB",
          "BLR",
          "BEL",
          "BLZ",
          "BEN",
          "BMU",
          "BTN",
          "BOL",
          "BES",
          "BIH",
          "BWA",
          "BRA",
          "VGB",
          "BRN",
          "BGR",
          "BFA",
          "BDI",
          "KHM",
          "CMR",
          "CAN",
          "CPV",
          "CYM",
          "CAF",
          "TCD",
          "CHL",
          "CHN",
          "COL",
          "COM",
          "COG",
          "COK",
          "CRI",
          "CIV",
          "HRV",
          "CUB",
          "CUW",
          "CYP",
          "CZE",
          "COD",
          "DNK",
          "DJI",
          "DMA",
          "DOM",
          "ECU",
          "EGY",
          "SLV",
          "OWID_ENG",
          "GNQ",
          "ERI",
          "EST",
          "SWZ",
          "ETH",
          "OWID_EUR",
          "OWID_EUN",
          "FRO",
          "FLK",
          "FJI",
          "FIN",
          "FRA",
          "GUF",
          "PYF",
          "GAB",
          "GMB",
          "GEO",
          "DEU",
          "GHA",
          "GIB",
          "GRC",
          "GRL",
          "GRD",
          "GLP",
          "GUM",
          "GTM",
          "GGY",
          "GIN",
          "GNB",
          "GUY",
          "HTI",
          "OWID_HIC",
          "HND",
          "HKG",
          "HUN",
          "ISL",
          "IND",
          "IDN",
          "IRN",
          "IRQ",
          "IRL",
          "IMN",
          "ISR",
          "ITA",
          "JAM",
          "JPN",
          "JEY",
          "JOR",
          "KAZ",
          "KEN",
          "KIR",
          "OWID_KOS",
          "KWT",
          "KGZ",
          "LAO",
          "LVA",
          "LBN",
          "LSO",
          "LBR",
          "LBY",
          "LIE",
          "LTU",
          "OWID_LIC",
          "OWID_LMC",
          "LUX",
          "MAC",
          "MDG",
          "MWI",
          "MYS",
          "MDV",
          "MLI",
          "MLT",
          "MHL",
          "MTQ",
          "MRT",
          "MUS",
          "MYT",
          "MEX",
          "FSM",
          "MDA",
          "MCO",
          "MNG",
          "MNE",
          "MSR",
          "MAR",
          "MOZ",
          "MMR",
          "NAM",
          "NRU",
          "NPL",
          "NLD",
          "NCL",
          "NZL",
          "NIC",
          "NER",
          "NGA",
          "NIU",
          "OWID_NAM",
          "PRK",
          "MKD",
          "OWID_CYN",
          "OWID_NIR",
          "MNP",
          "NOR",
          "OWID_OCE",
          "OMN",
          "PAK",
          "PLW",
          "PSE",
          "PAN",
          "PNG",
          "PRY",
          "PER",
          "PHL",
          "PCN",
          "POL",
          "PRT",
          "PRI",
          "QAT",
          "REU",
          "ROU",
          "RUS",
          "RWA",
          "BLM",
          "SHN",
          "KNA",
          "LCA",
          "MAF",
          "SPM",
          "VCT",
          "WSM",
          "SMR",
          "STP",
          "SAU",
          "OWID_SCT",
          "SEN",
          "SRB",
          "SYC",
          "SLE",
          "SGP",
          "SXM",
          "SVK",
          "SVN",
          "SLB",
          "SOM",
          "ZAF",
          "OWID_SAM",
          "KOR",
          "SSD",
          "ESP",
          "LKA",
          "SDN",
          "SUR",
          "SWE",
          "CHE",
          "SYR",
          "TWN",
          "TJK",
          "TZA",
          "THA",
          "TLS",
          "TGO",
          "TKL",
          "TON",
          "TTO",
          "TUN",
          "TUR",
          "TKM",
          "TCA",
          "TUV",
          "UGA",
          "UKR",
          "ARE",
          "GBR",
          "USA",
          "VIR",
          "OWID_UMC",
          "URY",
          "UZB",
          "VUT",
          "VAT",
          "VEN",
          "VNM",
          "OWID_WLS",
          "WLF",
          "ESH",
          "OWID_WRL",
          "YEM",
          "ZMB",
          "ZWE"
         ],
         "name": "",
         "type": "choropleth",
         "z": [
          44.48,
          38.78,
          47.47,
          17.46,
          null,
          72.53,
          46.1,
          68.36,
          68.56,
          91.22,
          40.44,
          85,
          78.08,
          84.93,
          77.18,
          51.88,
          42.64,
          84.31,
          88.5,
          58.17,
          67.55,
          79.51,
          63.78,
          27.69,
          75.62,
          89.35,
          60.22,
          70.64,
          29.18,
          74.18,
          88.08,
          62.13,
          100.48,
          31.09,
          26.86,
          0.29,
          91.29,
          13.35,
          90.4,
          60.14,
          90.34,
          46.61,
          35.29,
          92.27,
          91.89,
          82.92,
          52.44,
          11.65,
          88.73,
          89.6,
          48.18,
          57.61,
          96.05,
          56.81,
          74.91,
          66.48,
          17.22,
          80.79,
          37.61,
          45.35,
          65.48,
          85.18,
          51.27,
          73.43,
          80.31,
          16.13,
          null,
          65.57,
          43.78,
          42.54,
          70.24,
          75.1,
          78.53,
          69.24,
          76.58,
          81.65,
          80.63,
          null,
          62.33,
          13.03,
          24.92,
          44.19,
          77.82,
          41.42,
          129.07,
          76.42,
          72.98,
          35.26,
          null,
          null,
          50.07,
          85.62,
          55.41,
          34.83,
          61.24,
          4.5,
          79.86,
          63.23,
          92.37,
          64.42,
          83.07,
          72.5,
          73.99,
          73.62,
          25.47,
          81.8,
          82.29,
          71.15,
          86.27,
          30.41,
          84.47,
          76.14,
          42.72,
          55.98,
          26.83,
          76.88,
          50.89,
          80.99,
          26.19,
          78.21,
          72.74,
          49.92,
          43.98,
          73.62,
          34,
          68.02,
          71.18,
          32.63,
          66.36,
          74.42,
          97.77,
          9.15,
          26.31,
          82.84,
          76.23,
          19.27,
          89.78,
          null,
          null,
          44.42,
          86.48,
          null,
          76.22,
          null,
          33.89,
          79.13,
          66.88,
          46.69,
          47.68,
          66.8,
          69.37,
          74.48,
          24.52,
          103.27,
          91.02,
          71.72,
          66.35,
          82.96,
          92.17,
          23.84,
          42.22,
          83.91,
          76.38,
          null,
          40.82,
          78.8,
          75.46,
          null,
          79.99,
          64.3,
          71.18,
          70.21,
          null,
          38.34,
          80.15,
          3.77,
          58.9,
          89.69,
          71.55,
          100,
          57.4,
          95.33,
          null,
          105.83,
          null,
          41.65,
          61.56,
          79.01,
          null,
          80.74,
          70.88,
          33.43,
          null,
          null,
          36.1,
          86.07,
          78.23,
          61.68,
          74.27,
          83.23,
          15.5,
          48.81,
          82.62,
          65.96,
          91.55,
          67.41,
          46,
          59.71,
          47.47,
          50.99,
          40.42,
          85.94,
          86.43,
          39.28,
          86.95,
          78.53,
          32.44,
          43.33,
          73.71,
          69.75,
          14.9,
          91.65,
          53.54,
          52.57,
          79.51,
          65.92,
          25.45,
          116.38,
          81.73,
          49.22,
          58.42,
          67.89,
          71.76,
          71.76,
          86.13,
          42.4,
          39.73,
          105.83,
          79.71,
          81.39,
          null,
          83.48,
          87.95,
          63.79,
          54.06,
          null,
          78.29,
          91.94,
          81.77,
          61.66,
          null,
          70.54,
          3.09,
          58.51,
          39.45
         ]
        }
       ],
       "layout": {
        "autosize": true,
        "coloraxis": {
         "colorbar": {
          "title": {
           "text": "people_vaccinated_per_hundred"
          }
         },
         "colorscale": [
          [
           0,
           "#440154"
          ],
          [
           0.1111111111111111,
           "#482878"
          ],
          [
           0.2222222222222222,
           "#3e4989"
          ],
          [
           0.3333333333333333,
           "#31688e"
          ],
          [
           0.4444444444444444,
           "#26828e"
          ],
          [
           0.5555555555555556,
           "#1f9e89"
          ],
          [
           0.6666666666666666,
           "#35b779"
          ],
          [
           0.7777777777777778,
           "#6ece58"
          ],
          [
           0.8888888888888888,
           "#b5de2b"
          ],
          [
           1,
           "#fde725"
          ]
         ]
        },
        "geo": {
         "center": {
          "lat": 1.0271087856214602,
          "lon": 7.7453183373767915
         },
         "domain": {
          "x": [
           0,
           1
          ],
          "y": [
           0,
           1
          ]
         },
         "projection": {
          "rotation": {
           "lon": 7.7453183373767915
          },
          "scale": 0.9972312513520696,
          "type": "natural earth"
         }
        },
        "legend": {
         "tracegroupgap": 0
        },
        "margin": {
         "b": 0,
         "l": 0,
         "r": 0,
         "t": 40
        },
        "template": {
         "data": {
          "bar": [
           {
            "error_x": {
             "color": "#2a3f5f"
            },
            "error_y": {
             "color": "#2a3f5f"
            },
            "marker": {
             "line": {
              "color": "#E5ECF6",
              "width": 0.5
             },
             "pattern": {
              "fillmode": "overlay",
              "size": 10,
              "solidity": 0.2
             }
            },
            "type": "bar"
           }
          ],
          "barpolar": [
           {
            "marker": {
             "line": {
              "color": "#E5ECF6",
              "width": 0.5
             },
             "pattern": {
              "fillmode": "overlay",
              "size": 10,
              "solidity": 0.2
             }
            },
            "type": "barpolar"
           }
          ],
          "carpet": [
           {
            "aaxis": {
             "endlinecolor": "#2a3f5f",
             "gridcolor": "white",
             "linecolor": "white",
             "minorgridcolor": "white",
             "startlinecolor": "#2a3f5f"
            },
            "baxis": {
             "endlinecolor": "#2a3f5f",
             "gridcolor": "white",
             "linecolor": "white",
             "minorgridcolor": "white",
             "startlinecolor": "#2a3f5f"
            },
            "type": "carpet"
           }
          ],
          "choropleth": [
           {
            "colorbar": {
             "outlinewidth": 0,
             "ticks": ""
            },
            "type": "choropleth"
           }
          ],
          "contour": [
           {
            "colorbar": {
             "outlinewidth": 0,
             "ticks": ""
            },
            "colorscale": [
             [
              0,
              "#0d0887"
             ],
             [
              0.1111111111111111,
              "#46039f"
             ],
             [
              0.2222222222222222,
              "#7201a8"
             ],
             [
              0.3333333333333333,
              "#9c179e"
             ],
             [
              0.4444444444444444,
              "#bd3786"
             ],
             [
              0.5555555555555556,
              "#d8576b"
             ],
             [
              0.6666666666666666,
              "#ed7953"
             ],
             [
              0.7777777777777778,
              "#fb9f3a"
             ],
             [
              0.8888888888888888,
              "#fdca26"
             ],
             [
              1,
              "#f0f921"
             ]
            ],
            "type": "contour"
           }
          ],
          "contourcarpet": [
           {
            "colorbar": {
             "outlinewidth": 0,
             "ticks": ""
            },
            "type": "contourcarpet"
           }
          ],
          "heatmap": [
           {
            "colorbar": {
             "outlinewidth": 0,
             "ticks": ""
            },
            "colorscale": [
             [
              0,
              "#0d0887"
             ],
             [
              0.1111111111111111,
              "#46039f"
             ],
             [
              0.2222222222222222,
              "#7201a8"
             ],
             [
              0.3333333333333333,
              "#9c179e"
             ],
             [
              0.4444444444444444,
              "#bd3786"
             ],
             [
              0.5555555555555556,
              "#d8576b"
             ],
             [
              0.6666666666666666,
              "#ed7953"
             ],
             [
              0.7777777777777778,
              "#fb9f3a"
             ],
             [
              0.8888888888888888,
              "#fdca26"
             ],
             [
              1,
              "#f0f921"
             ]
            ],
            "type": "heatmap"
           }
          ],
          "heatmapgl": [
           {
            "colorbar": {
             "outlinewidth": 0,
             "ticks": ""
            },
            "colorscale": [
             [
              0,
              "#0d0887"
             ],
             [
              0.1111111111111111,
              "#46039f"
             ],
             [
              0.2222222222222222,
              "#7201a8"
             ],
             [
              0.3333333333333333,
              "#9c179e"
             ],
             [
              0.4444444444444444,
              "#bd3786"
             ],
             [
              0.5555555555555556,
              "#d8576b"
             ],
             [
              0.6666666666666666,
              "#ed7953"
             ],
             [
              0.7777777777777778,
              "#fb9f3a"
             ],
             [
              0.8888888888888888,
              "#fdca26"
             ],
             [
              1,
              "#f0f921"
             ]
            ],
            "type": "heatmapgl"
           }
          ],
          "histogram": [
           {
            "marker": {
             "pattern": {
              "fillmode": "overlay",
              "size": 10,
              "solidity": 0.2
             }
            },
            "type": "histogram"
           }
          ],
          "histogram2d": [
           {
            "colorbar": {
             "outlinewidth": 0,
             "ticks": ""
            },
            "colorscale": [
             [
              0,
              "#0d0887"
             ],
             [
              0.1111111111111111,
              "#46039f"
             ],
             [
              0.2222222222222222,
              "#7201a8"
             ],
             [
              0.3333333333333333,
              "#9c179e"
             ],
             [
              0.4444444444444444,
              "#bd3786"
             ],
             [
              0.5555555555555556,
              "#d8576b"
             ],
             [
              0.6666666666666666,
              "#ed7953"
             ],
             [
              0.7777777777777778,
              "#fb9f3a"
             ],
             [
              0.8888888888888888,
              "#fdca26"
             ],
             [
              1,
              "#f0f921"
             ]
            ],
            "type": "histogram2d"
           }
          ],
          "histogram2dcontour": [
           {
            "colorbar": {
             "outlinewidth": 0,
             "ticks": ""
            },
            "colorscale": [
             [
              0,
              "#0d0887"
             ],
             [
              0.1111111111111111,
              "#46039f"
             ],
             [
              0.2222222222222222,
              "#7201a8"
             ],
             [
              0.3333333333333333,
              "#9c179e"
             ],
             [
              0.4444444444444444,
              "#bd3786"
             ],
             [
              0.5555555555555556,
              "#d8576b"
             ],
             [
              0.6666666666666666,
              "#ed7953"
             ],
             [
              0.7777777777777778,
              "#fb9f3a"
             ],
             [
              0.8888888888888888,
              "#fdca26"
             ],
             [
              1,
              "#f0f921"
             ]
            ],
            "type": "histogram2dcontour"
           }
          ],
          "mesh3d": [
           {
            "colorbar": {
             "outlinewidth": 0,
             "ticks": ""
            },
            "type": "mesh3d"
           }
          ],
          "parcoords": [
           {
            "line": {
             "colorbar": {
              "outlinewidth": 0,
              "ticks": ""
             }
            },
            "type": "parcoords"
           }
          ],
          "pie": [
           {
            "automargin": true,
            "type": "pie"
           }
          ],
          "scatter": [
           {
            "fillpattern": {
             "fillmode": "overlay",
             "size": 10,
             "solidity": 0.2
            },
            "type": "scatter"
           }
          ],
          "scatter3d": [
           {
            "line": {
             "colorbar": {
              "outlinewidth": 0,
              "ticks": ""
             }
            },
            "marker": {
             "colorbar": {
              "outlinewidth": 0,
              "ticks": ""
             }
            },
            "type": "scatter3d"
           }
          ],
          "scattercarpet": [
           {
            "marker": {
             "colorbar": {
              "outlinewidth": 0,
              "ticks": ""
             }
            },
            "type": "scattercarpet"
           }
          ],
          "scattergeo": [
           {
            "marker": {
             "colorbar": {
              "outlinewidth": 0,
              "ticks": ""
             }
            },
            "type": "scattergeo"
           }
          ],
          "scattergl": [
           {
            "marker": {
             "colorbar": {
              "outlinewidth": 0,
              "ticks": ""
             }
            },
            "type": "scattergl"
           }
          ],
          "scattermapbox": [
           {
            "marker": {
             "colorbar": {
              "outlinewidth": 0,
              "ticks": ""
             }
            },
            "type": "scattermapbox"
           }
          ],
          "scatterpolar": [
           {
            "marker": {
             "colorbar": {
              "outlinewidth": 0,
              "ticks": ""
             }
            },
            "type": "scatterpolar"
           }
          ],
          "scatterpolargl": [
           {
            "marker": {
             "colorbar": {
              "outlinewidth": 0,
              "ticks": ""
             }
            },
            "type": "scatterpolargl"
           }
          ],
          "scatterternary": [
           {
            "marker": {
             "colorbar": {
              "outlinewidth": 0,
              "ticks": ""
             }
            },
            "type": "scatterternary"
           }
          ],
          "surface": [
           {
            "colorbar": {
             "outlinewidth": 0,
             "ticks": ""
            },
            "colorscale": [
             [
              0,
              "#0d0887"
             ],
             [
              0.1111111111111111,
              "#46039f"
             ],
             [
              0.2222222222222222,
              "#7201a8"
             ],
             [
              0.3333333333333333,
              "#9c179e"
             ],
             [
              0.4444444444444444,
              "#bd3786"
             ],
             [
              0.5555555555555556,
              "#d8576b"
             ],
             [
              0.6666666666666666,
              "#ed7953"
             ],
             [
              0.7777777777777778,
              "#fb9f3a"
             ],
             [
              0.8888888888888888,
              "#fdca26"
             ],
             [
              1,
              "#f0f921"
             ]
            ],
            "type": "surface"
           }
          ],
          "table": [
           {
            "cells": {
             "fill": {
              "color": "#EBF0F8"
             },
             "line": {
              "color": "white"
             }
            },
            "header": {
             "fill": {
              "color": "#C8D4E3"
             },
             "line": {
              "color": "white"
             }
            },
            "type": "table"
           }
          ]
         },
         "layout": {
          "annotationdefaults": {
           "arrowcolor": "#2a3f5f",
           "arrowhead": 0,
           "arrowwidth": 1
          },
          "autotypenumbers": "strict",
          "coloraxis": {
           "colorbar": {
            "outlinewidth": 0,
            "ticks": ""
           }
          },
          "colorscale": {
           "diverging": [
            [
             0,
             "#8e0152"
            ],
            [
             0.1,
             "#c51b7d"
            ],
            [
             0.2,
             "#de77ae"
            ],
            [
             0.3,
             "#f1b6da"
            ],
            [
             0.4,
             "#fde0ef"
            ],
            [
             0.5,
             "#f7f7f7"
            ],
            [
             0.6,
             "#e6f5d0"
            ],
            [
             0.7,
             "#b8e186"
            ],
            [
             0.8,
             "#7fbc41"
            ],
            [
             0.9,
             "#4d9221"
            ],
            [
             1,
             "#276419"
            ]
           ],
           "sequential": [
            [
             0,
             "#0d0887"
            ],
            [
             0.1111111111111111,
             "#46039f"
            ],
            [
             0.2222222222222222,
             "#7201a8"
            ],
            [
             0.3333333333333333,
             "#9c179e"
            ],
            [
             0.4444444444444444,
             "#bd3786"
            ],
            [
             0.5555555555555556,
             "#d8576b"
            ],
            [
             0.6666666666666666,
             "#ed7953"
            ],
            [
             0.7777777777777778,
             "#fb9f3a"
            ],
            [
             0.8888888888888888,
             "#fdca26"
            ],
            [
             1,
             "#f0f921"
            ]
           ],
           "sequentialminus": [
            [
             0,
             "#0d0887"
            ],
            [
             0.1111111111111111,
             "#46039f"
            ],
            [
             0.2222222222222222,
             "#7201a8"
            ],
            [
             0.3333333333333333,
             "#9c179e"
            ],
            [
             0.4444444444444444,
             "#bd3786"
            ],
            [
             0.5555555555555556,
             "#d8576b"
            ],
            [
             0.6666666666666666,
             "#ed7953"
            ],
            [
             0.7777777777777778,
             "#fb9f3a"
            ],
            [
             0.8888888888888888,
             "#fdca26"
            ],
            [
             1,
             "#f0f921"
            ]
           ]
          },
          "colorway": [
           "#636efa",
           "#EF553B",
           "#00cc96",
           "#ab63fa",
           "#FFA15A",
           "#19d3f3",
           "#FF6692",
           "#B6E880",
           "#FF97FF",
           "#FECB52"
          ],
          "font": {
           "color": "#2a3f5f"
          },
          "geo": {
           "bgcolor": "white",
           "lakecolor": "white",
           "landcolor": "#E5ECF6",
           "showlakes": true,
           "showland": true,
           "subunitcolor": "white"
          },
          "hoverlabel": {
           "align": "left"
          },
          "hovermode": "closest",
          "mapbox": {
           "style": "light"
          },
          "paper_bgcolor": "white",
          "plot_bgcolor": "#E5ECF6",
          "polar": {
           "angularaxis": {
            "gridcolor": "white",
            "linecolor": "white",
            "ticks": ""
           },
           "bgcolor": "#E5ECF6",
           "radialaxis": {
            "gridcolor": "white",
            "linecolor": "white",
            "ticks": ""
           }
          },
          "scene": {
           "xaxis": {
            "backgroundcolor": "#E5ECF6",
            "gridcolor": "white",
            "gridwidth": 2,
            "linecolor": "white",
            "showbackground": true,
            "ticks": "",
            "zerolinecolor": "white"
           },
           "yaxis": {
            "backgroundcolor": "#E5ECF6",
            "gridcolor": "white",
            "gridwidth": 2,
            "linecolor": "white",
            "showbackground": true,
            "ticks": "",
            "zerolinecolor": "white"
           },
           "zaxis": {
            "backgroundcolor": "#E5ECF6",
            "gridcolor": "white",
            "gridwidth": 2,
            "linecolor": "white",
            "showbackground": true,
            "ticks": "",
            "zerolinecolor": "white"
           }
          },
          "shapedefaults": {
           "line": {
            "color": "#2a3f5f"
           }
          },
          "ternary": {
           "aaxis": {
            "gridcolor": "white",
            "linecolor": "white",
            "ticks": ""
           },
           "baxis": {
            "gridcolor": "white",
            "linecolor": "white",
            "ticks": ""
           },
           "bgcolor": "#E5ECF6",
           "caxis": {
            "gridcolor": "white",
            "linecolor": "white",
            "ticks": ""
           }
          },
          "title": {
           "x": 0.05
          },
          "xaxis": {
           "automargin": true,
           "gridcolor": "white",
           "linecolor": "white",
           "ticks": "",
           "title": {
            "standoff": 15
           },
           "zerolinecolor": "white",
           "zerolinewidth": 2
          },
          "yaxis": {
           "automargin": true,
           "gridcolor": "white",
           "linecolor": "white",
           "ticks": "",
           "title": {
            "standoff": 15
           },
           "zerolinecolor": "white",
           "zerolinewidth": 2
          }
         }
        },
        "title": {
         "text": "Global COVID-19 Vaccination Rates (per 100 people)"
        }
       }
      },
      "image/png": "[encoded data removed]",
      "text/html": [
       "<div>                            <div id=\"2510d555-1183-484a-a4c3-b3d3c7614372\" class=\"plotly-graph-div\" style=\"height:525px; width:100%;\"></div>            <script type=\"text/javascript\">                require([\"plotly\"], function(Plotly) {                    window.PLOTLYENV=window.PLOTLYENV || {};                                    if (document.getElementById(\"2510d555-1183-484a-a4c3-b3d3c7614372\")) {                    Plotly.newPlot(                        \"2510d555-1183-484a-a4c3-b3d3c7614372\",                        [{\"coloraxis\":\"coloraxis\",\"geo\":\"geo\",\"hovertemplate\":\"<b>%{hovertext}</b><br><br>iso_code=%{location}<br>people_vaccinated_per_hundred=%{z}<extra></extra>\",\"hovertext\":[\"Afghanistan\",\"Africa\",\"Albania\",\"Algeria\",\"American Samoa\",\"Andorra\",\"Angola\",\"Anguilla\",\"Antigua and Barbuda\",\"Argentina\",\"Armenia\",\"Aruba\",\"Asia\",\"Australia\",\"Austria\",\"Azerbaijan\",\"Bahamas\",\"Bahrain\",\"Bangladesh\",\"Barbados\",\"Belarus\",\"Belgium\",\"Belize\",\"Benin\",\"Bermuda\",\"Bhutan\",\"Bolivia\",\"Bonaire Sint Eustatius and Saba\",\"Bosnia and Herzegovina\",\"Botswana\",\"Brazil\",\"British Virgin Islands\",\"Brunei\",\"Bulgaria\",\"Burkina Faso\",\"Burundi\",\"Cambodia\",\"Cameroon\",\"Canada\",\"Cape Verde\",\"Cayman Islands\",\"Central African Republic\",\"Chad\",\"Chile\",\"China\",\"Colombia\",\"Comoros\",\"Congo\",\"Cook Islands\",\"Costa Rica\",\"Cote d'Ivoire\",\"Croatia\",\"Cuba\",\"Curacao\",\"Cyprus\",\"Czechia\",\"Democratic Republic of Congo\",\"Denmark\",\"Djibouti\",\"Dominica\",\"Dominican Republic\",\"Ecuador\",\"Egypt\",\"El Salvador\",\"England\",\"Equatorial Guinea\",\"Eritrea\",\"Estonia\",\"Eswatini\",\"Ethiopia\",\"Europe\",\"European Union\",\"Faeroe Islands\",\"Falkland Islands\",\"Fiji\",\"Finland\",\"France\",\"French Guiana\",\"French Polynesia\",\"Gabon\",\"Gambia\",\"Georgia\",\"Germany\",\"Ghana\",\"Gibraltar\",\"Greece\",\"Greenland\",\"Grenada\",\"Guadeloupe\",\"Guam\",\"Guatemala\",\"Guernsey\",\"Guinea\",\"Guinea-Bissau\",\"Guyana\",\"Haiti\",\"High income\",\"Honduras\",\"Hong Kong\",\"Hungary\",\"Iceland\",\"India\",\"Indonesia\",\"Iran\",\"Iraq\",\"Ireland\",\"Isle of Man\",\"Israel\",\"Italy\",\"Jamaica\",\"Japan\",\"Jersey\",\"Jordan\",\"Kazakhstan\",\"Kenya\",\"Kiribati\",\"Kosovo\",\"Kuwait\",\"Kyrgyzstan\",\"Laos\",\"Latvia\",\"Lebanon\",\"Lesotho\",\"Liberia\",\"Libya\",\"Liechtenstein\",\"Lithuania\",\"Low income\",\"Lower middle income\",\"Luxembourg\",\"Macao\",\"Madagascar\",\"Malawi\",\"Malaysia\",\"Maldives\",\"Mali\",\"Malta\",\"Marshall Islands\",\"Martinique\",\"Mauritania\",\"Mauritius\",\"Mayotte\",\"Mexico\",\"Micronesia (country)\",\"Moldova\",\"Monaco\",\"Mongolia\",\"Montenegro\",\"Montserrat\",\"Morocco\",\"Mozambique\",\"Myanmar\",\"Namibia\",\"Nauru\",\"Nepal\",\"Netherlands\",\"New Caledonia\",\"New Zealand\",\"Nicaragua\",\"Niger\",\"Nigeria\",\"Niue\",\"North America\",\"North Korea\",\"North Macedonia\",\"Northern Cyprus\",\"Northern Ireland\",\"Northern Mariana Islands\",\"Norway\",\"Oceania\",\"Oman\",\"Pakistan\",\"Palau\",\"Palestine\",\"Panama\",\"Papua New Guinea\",\"Paraguay\",\"Peru\",\"Philippines\",\"Pitcairn\",\"Poland\",\"Portugal\",\"Puerto Rico\",\"Qatar\",\"Reunion\",\"Romania\",\"Russia\",\"Rwanda\",\"Saint Barthelemy\",\"Saint Helena\",\"Saint Kitts and Nevis\",\"Saint Lucia\",\"Saint Martin (French part)\",\"Saint Pierre and Miquelon\",\"Saint Vincent and the Grenadines\",\"Samoa\",\"San Marino\",\"Sao Tome and Principe\",\"Saudi Arabia\",\"Scotland\",\"Senegal\",\"Serbia\",\"Seychelles\",\"Sierra Leone\",\"Singapore\",\"Sint Maarten (Dutch part)\",\"Slovakia\",\"Slovenia\",\"Solomon Islands\",\"Somalia\",\"South Africa\",\"South America\",\"South Korea\",\"South Sudan\",\"Spain\",\"Sri Lanka\",\"Sudan\",\"Suriname\",\"Sweden\",\"Switzerland\",\"Syria\",\"Taiwan\",\"Tajikistan\",\"Tanzania\",\"Thailand\",\"Timor\",\"Togo\",\"Tokelau\",\"Tonga\",\"Trinidad and Tobago\",\"Tunisia\",\"Turkey\",\"Turkmenistan\",\"Turks and Caicos Islands\",\"Tuvalu\",\"Uganda\",\"Ukraine\",\"United Arab Emirates\",\"United Kingdom\",\"United States\",\"United States Virgin Islands\",\"Upper middle income\",\"Uruguay\",\"Uzbekistan\",\"Vanuatu\",\"Vatican\",\"Venezuela\",\"Vietnam\",\"Wales\",\"Wallis and Futuna\",\"Western Sahara\",\"World\",\"Yemen\",\"Zambia\",\"Zimbabwe\"],\"locations\":[\"AFG\",\"OWID_AFR\",\"ALB\",\"DZA\",\"ASM\",\"AND\",\"AGO\",\"AIA\",\"ATG\",\"ARG\",\"ARM\",\"ABW\",\"OWID_ASI\",\"AUS\",\"AUT\",\"AZE\",\"BHS\",\"BHR\",\"BGD\",\"BRB\",\"BLR\",\"BEL\",\"BLZ\",\"BEN\",\"BMU\",\"BTN\",\"BOL\",\"BES\",\"BIH\",\"BWA\",\"BRA\",\"VGB\",\"BRN\",\"BGR\",\"BFA\",\"BDI\",\"KHM\",\"CMR\",\"CAN\",\"CPV\",\"CYM\",\"CAF\",\"TCD\",\"CHL\",\"CHN\",\"COL\",\"COM\",\"COG\",\"COK\",\"CRI\",\"CIV\",\"HRV\",\"CUB\",\"CUW\",\"CYP\",\"CZE\",\"COD\",\"DNK\",\"DJI\",\"DMA\",\"DOM\",\"ECU\",\"EGY\",\"SLV\",\"OWID_ENG\",\"GNQ\",\"ERI\",\"EST\",\"SWZ\",\"ETH\",\"OWID_EUR\",\"OWID_EUN\",\"FRO\",\"FLK\",\"FJI\",\"FIN\",\"FRA\",\"GUF\",\"PYF\",\"GAB\",\"GMB\",\"GEO\",\"DEU\",\"GHA\",\"GIB\",\"GRC\",\"GRL\",\"GRD\",\"GLP\",\"GUM\",\"GTM\",\"GGY\",\"GIN\",\"GNB\",\"GUY\",\"HTI\",\"OWID_HIC\",\"HND\",\"HKG\",\"HUN\",\"ISL\",\"IND\",\"IDN\",\"IRN\",\"IRQ\",\"IRL\",\"IMN\",\"ISR\",\"ITA\",\"JAM\",\"JPN\",\"JEY\",\"JOR\",\"KAZ\",\"KEN\",\"KIR\",\"OWID_KOS\",\"KWT\",\"KGZ\",\"LAO\",\"LVA\",\"LBN\",\"LSO\",\"LBR\",\"LBY\",\"LIE\",\"LTU\",\"OWID_LIC\",\"OWID_LMC\",\"LUX\",\"MAC\",\"MDG\",\"MWI\",\"MYS\",\"MDV\",\"MLI\",\"MLT\",\"MHL\",\"MTQ\",\"MRT\",\"MUS\",\"MYT\",\"MEX\",\"FSM\",\"MDA\",\"MCO\",\"MNG\",\"MNE\",\"MSR\",\"MAR\",\"MOZ\",\"MMR\",\"NAM\",\"NRU\",\"NPL\",\"NLD\",\"NCL\",\"NZL\",\"NIC\",\"NER\",\"NGA\",\"NIU\",\"OWID_NAM\",\"PRK\",\"MKD\",\"OWID_CYN\",\"OWID_NIR\",\"MNP\",\"NOR\",\"OWID_OCE\",\"OMN\",\"PAK\",\"PLW\",\"PSE\",\"PAN\",\"PNG\",\"PRY\",\"PER\",\"PHL\",\"PCN\",\"POL\",\"PRT\",\"PRI\",\"QAT\",\"REU\",\"ROU\",\"RUS\",\"RWA\",\"BLM\",\"SHN\",\"KNA\",\"LCA\",\"MAF\",\"SPM\",\"VCT\",\"WSM\",\"SMR\",\"STP\",\"SAU\",\"OWID_SCT\",\"SEN\",\"SRB\",\"SYC\",\"SLE\",\"SGP\",\"SXM\",\"SVK\",\"SVN\",\"SLB\",\"SOM\",\"ZAF\",\"OWID_SAM\",\"KOR\",\"SSD\",\"ESP\",\"LKA\",\"SDN\",\"SUR\",\"SWE\",\"CHE\",\"SYR\",\"TWN\",\"TJK\",\"TZA\",\"THA\",\"TLS\",\"TGO\",\"TKL\",\"TON\",\"TTO\",\"TUN\",\"TUR\",\"TKM\",\"TCA\",\"TUV\",\"UGA\",\"UKR\",\"ARE\",\"GBR\",\"USA\",\"VIR\",\"OWID_UMC\",\"URY\",\"UZB\",\"VUT\",\"VAT\",\"VEN\",\"VNM\",\"OWID_WLS\",\"WLF\",\"ESH\",\"OWID_WRL\",\"YEM\",\"ZMB\",\"ZWE\"],\"name\":\"\",\"z\":[44.48,38.78,47.47,17.46,null,72.53,46.1,68.36,68.56,91.22,40.44,85.0,78.08,84.93,77.18,51.88,42.64,84.31,88.5,58.17,67.55,79.51,63.78,27.69,75.62,89.35,60.22,70.64,29.18,74.18,88.08,62.13,100.48,31.09,26.86,0.29,91.29,13.35,90.4,60.14,90.34,46.61,35.29,92.27,91.89,82.92,52.44,11.65,88.73,89.6,48.18,57.61,96.05,56.81,74.91,66.48,17.22,80.79,37.61,45.35,65.48,85.18,51.27,73.43,80.31,16.13,null,65.57,43.78,42.54,70.24,75.1,78.53,69.24,76.58,81.65,80.63,null,62.33,13.03,24.92,44.19,77.82,41.42,129.07,76.42,72.98,35.26,null,null,50.07,85.62,55.41,34.83,61.24,4.5,79.86,63.23,92.37,64.42,83.07,72.5,73.99,73.62,25.47,81.8,82.29,71.15,86.27,30.41,84.47,76.14,42.72,55.98,26.83,76.88,50.89,80.99,26.19,78.21,72.74,49.92,43.98,73.62,34.0,68.02,71.18,32.63,66.36,74.42,97.77,9.15,26.31,82.84,76.23,19.27,89.78,null,null,44.42,86.48,null,76.22,null,33.89,79.13,66.88,46.69,47.68,66.8,69.37,74.48,24.52,103.27,91.02,71.72,66.35,82.96,92.17,23.84,42.22,83.91,76.38,null,40.82,78.8,75.46,null,79.99,64.3,71.18,70.21,null,38.34,80.15,3.77,58.9,89.69,71.55,100.0,57.4,95.33,null,105.83,null,41.65,61.56,79.01,null,80.74,70.88,33.43,null,null,36.1,86.07,78.23,61.68,74.27,83.23,15.5,48.81,82.62,65.96,91.55,67.41,46.0,59.71,47.47,50.99,40.42,85.94,86.43,39.28,86.95,78.53,32.44,43.33,73.71,69.75,14.9,91.65,53.54,52.57,79.51,65.92,25.45,116.38,81.73,49.22,58.42,67.89,71.76,71.76,86.13,42.4,39.73,105.83,79.71,81.39,null,83.48,87.95,63.79,54.06,null,78.29,91.94,81.77,61.66,null,70.54,3.09,58.51,39.45],\"type\":\"choropleth\"}],                        {\"template\":{\"data\":{\"histogram2dcontour\":[{\"type\":\"histogram2dcontour\",\"colorbar\":{\"outlinewidth\":0,\"ticks\":\"\"},\"colorscale\":[[0.0,\"#0d0887\"],[0.1111111111111111,\"#46039f\"],[0.2222222222222222,\"#7201a8\"],[0.3333333333333333,\"#9c179e\"],[0.4444444444444444,\"#bd3786\"],[0.5555555555555556,\"#d8576b\"],[0.6666666666666666,\"#ed7953\"],[0.7777777777777778,\"#fb9f3a\"],[0.8888888888888888,\"#fdca26\"],[1.0,\"#f0f921\"]]}],\"choropleth\":[{\"type\":\"choropleth\",\"colorbar\":{\"outlinewidth\":0,\"ticks\":\"\"}}],\"histogram2d\":[{\"type\":\"histogram2d\",\"colorbar\":{\"outlinewidth\":0,\"ticks\":\"\"},\"colorscale\":[[0.0,\"#0d0887\"],[0.1111111111111111,\"#46039f\"],[0.2222222222222222,\"#7201a8\"],[0.3333333333333333,\"#9c179e\"],[0.4444444444444444,\"#bd3786\"],[0.5555555555555556,\"#d8576b\"],[0.6666666666666666,\"#ed7953\"],[0.7777777777777778,\"#fb9f3a\"],[0.8888888888888888,\"#fdca26\"],[1.0,\"#f0f921\"]]}],\"heatmap\":[{\"type\":\"heatmap\",\"colorbar\":{\"outlinewidth\":0,\"ticks\":\"\"},\"colorscale\":[[0.0,\"#0d0887\"],[0.1111111111111111,\"#46039f\"],[0.2222222222222222,\"#7201a8\"],[0.3333333333333333,\"#9c179e\"],[0.4444444444444444,\"#bd3786\"],[0.5555555555555556,\"#d8576b\"],[0.6666666666666666,\"#ed7953\"],[0.7777777777777778,\"#fb9f3a\"],[0.8888888888888888,\"#fdca26\"],[1.0,\"#f0f921\"]]}],\"heatmapgl\":[{\"type\":\"heatmapgl\",\"colorbar\":{\"outlinewidth\":0,\"ticks\":\"\"},\"colorscale\":[[0.0,\"#0d0887\"],[0.1111111111111111,\"#46039f\"],[0.2222222222222222,\"#7201a8\"],[0.3333333333333333,\"#9c179e\"],[0.4444444444444444,\"#bd3786\"],[0.5555555555555556,\"#d8576b\"],[0.6666666666666666,\"#ed7953\"],[0.7777777777777778,\"#fb9f3a\"],[0.8888888888888888,\"#fdca26\"],[1.0,\"#f0f921\"]]}],\"contourcarpet\":[{\"type\":\"contourcarpet\",\"colorbar\":{\"outlinewidth\":0,\"ticks\":\"\"}}],\"contour\":[{\"type\":\"contour\",\"colorbar\":{\"outlinewidth\":0,\"ticks\":\"\"},\"colorscale\":[[0.0,\"#0d0887\"],[0.1111111111111111,\"#46039f\"],[0.2222222222222222,\"#7201a8\"],[0.3333333333333333,\"#9c179e\"],[0.4444444444444444,\"#bd3786\"],[0.5555555555555556,\"#d8576b\"],[0.6666666666666666,\"#ed7953\"],[0.7777777777777778,\"#fb9f3a\"],[0.8888888888888888,\"#fdca26\"],[1.0,\"#f0f921\"]]}],\"surface\":[{\"type\":\"surface\",\"colorbar\":{\"outlinewidth\":0,\"ticks\":\"\"},\"colorscale\":[[0.0,\"#0d0887\"],[0.1111111111111111,\"#46039f\"],[0.2222222222222222,\"#7201a8\"],[0.3333333333333333,\"#9c179e\"],[0.4444444444444444,\"#bd3786\"],[0.5555555555555556,\"#d8576b\"],[0.6666666666666666,\"#ed7953\"],[0.7777777777777778,\"#fb9f3a\"],[0.8888888888888888,\"#fdca26\"],[1.0,\"#f0f921\"]]}],\"mesh3d\":[{\"type\":\"mesh3d\",\"colorbar\":{\"outlinewidth\":0,\"ticks\":\"\"}}],\"scatter\":[{\"fillpattern\":{\"fillmode\":\"overlay\",\"size\":10,\"solidity\":0.2},\"type\":\"scatter\"}],\"parcoords\":[{\"type\":\"parcoords\",\"line\":{\"colorbar\":{\"outlinewidth\":0,\"ticks\":\"\"}}}],\"scatterpolargl\":[{\"type\":\"scatterpolargl\",\"marker\":{\"colorbar\":{\"outlinewidth\":0,\"ticks\":\"\"}}}],\"bar\":[{\"error_x\":{\"color\":\"#2a3f5f\"},\"error_y\":{\"color\":\"#2a3f5f\"},\"marker\":{\"line\":{\"color\":\"#E5ECF6\",\"width\":0.5},\"pattern\":{\"fillmode\":\"overlay\",\"size\":10,\"solidity\":0.2}},\"type\":\"bar\"}],\"scattergeo\":[{\"type\":\"scattergeo\",\"marker\":{\"colorbar\":{\"outlinewidth\":0,\"ticks\":\"\"}}}],\"scatterpolar\":[{\"type\":\"scatterpolar\",\"marker\":{\"colorbar\":{\"outlinewidth\":0,\"ticks\":\"\"}}}],\"histogram\":[{\"marker\":{\"pattern\":{\"fillmode\":\"overlay\",\"size\":10,\"solidity\":0.2}},\"type\":\"histogram\"}],\"scattergl\":[{\"type\":\"scattergl\",\"marker\":{\"colorbar\":{\"outlinewidth\":0,\"ticks\":\"\"}}}],\"scatter3d\":[{\"type\":\"scatter3d\",\"line\":{\"colorbar\":{\"outlinewidth\":0,\"ticks\":\"\"}},\"marker\":{\"colorbar\":{\"outlinewidth\":0,\"ticks\":\"\"}}}],\"scattermapbox\":[{\"type\":\"scattermapbox\",\"marker\":{\"colorbar\":{\"outlinewidth\":0,\"ticks\":\"\"}}}],\"scatterternary\":[{\"type\":\"scatterternary\",\"marker\":{\"colorbar\":{\"outlinewidth\":0,\"ticks\":\"\"}}}],\"scattercarpet\":[{\"type\":\"scattercarpet\",\"marker\":{\"colorbar\":{\"outlinewidth\":0,\"ticks\":\"\"}}}],\"carpet\":[{\"aaxis\":{\"endlinecolor\":\"#2a3f5f\",\"gridcolor\":\"white\",\"linecolor\":\"white\",\"minorgridcolor\":\"white\",\"startlinecolor\":\"#2a3f5f\"},\"baxis\":{\"endlinecolor\":\"#2a3f5f\",\"gridcolor\":\"white\",\"linecolor\":\"white\",\"minorgridcolor\":\"white\",\"startlinecolor\":\"#2a3f5f\"},\"type\":\"carpet\"}],\"table\":[{\"cells\":{\"fill\":{\"color\":\"#EBF0F8\"},\"line\":{\"color\":\"white\"}},\"header\":{\"fill\":{\"color\":\"#C8D4E3\"},\"line\":{\"color\":\"white\"}},\"type\":\"table\"}],\"barpolar\":[{\"marker\":{\"line\":{\"color\":\"#E5ECF6\",\"width\":0.5},\"pattern\":{\"fillmode\":\"overlay\",\"size\":10,\"solidity\":0.2}},\"type\":\"barpolar\"}],\"pie\":[{\"automargin\":true,\"type\":\"pie\"}]},\"layout\":{\"autotypenumbers\":\"strict\",\"colorway\":[\"#636efa\",\"#EF553B\",\"#00cc96\",\"#ab63fa\",\"#FFA15A\",\"#19d3f3\",\"#FF6692\",\"#B6E880\",\"#FF97FF\",\"#FECB52\"],\"font\":{\"color\":\"#2a3f5f\"},\"hovermode\":\"closest\",\"hoverlabel\":{\"align\":\"left\"},\"paper_bgcolor\":\"white\",\"plot_bgcolor\":\"#E5ECF6\",\"polar\":{\"bgcolor\":\"#E5ECF6\",\"angularaxis\":{\"gridcolor\":\"white\",\"linecolor\":\"white\",\"ticks\":\"\"},\"radialaxis\":{\"gridcolor\":\"white\",\"linecolor\":\"white\",\"ticks\":\"\"}},\"ternary\":{\"bgcolor\":\"#E5ECF6\",\"aaxis\":{\"gridcolor\":\"white\",\"linecolor\":\"white\",\"ticks\":\"\"},\"baxis\":{\"gridcolor\":\"white\",\"linecolor\":\"white\",\"ticks\":\"\"},\"caxis\":{\"gridcolor\":\"white\",\"linecolor\":\"white\",\"ticks\":\"\"}},\"coloraxis\":{\"colorbar\":{\"outlinewidth\":0,\"ticks\":\"\"}},\"colorscale\":{\"sequential\":[[0.0,\"#0d0887\"],[0.1111111111111111,\"#46039f\"],[0.2222222222222222,\"#7201a8\"],[0.3333333333333333,\"#9c179e\"],[0.4444444444444444,\"#bd3786\"],[0.5555555555555556,\"#d8576b\"],[0.6666666666666666,\"#ed7953\"],[0.7777777777777778,\"#fb9f3a\"],[0.8888888888888888,\"#fdca26\"],[1.0,\"#f0f921\"]],\"sequentialminus\":[[0.0,\"#0d0887\"],[0.1111111111111111,\"#46039f\"],[0.2222222222222222,\"#7201a8\"],[0.3333333333333333,\"#9c179e\"],[0.4444444444444444,\"#bd3786\"],[0.5555555555555556,\"#d8576b\"],[0.6666666666666666,\"#ed7953\"],[0.7777777777777778,\"#fb9f3a\"],[0.8888888888888888,\"#fdca26\"],[1.0,\"#f0f921\"]],\"diverging\":[[0,\"#8e0152\"],[0.1,\"#c51b7d\"],[0.2,\"#de77ae\"],[0.3,\"#f1b6da\"],[0.4,\"#fde0ef\"],[0.5,\"#f7f7f7\"],[0.6,\"#e6f5d0\"],[0.7,\"#b8e186\"],[0.8,\"#7fbc41\"],[0.9,\"#4d9221\"],[1,\"#276419\"]]},\"xaxis\":{\"gridcolor\":\"white\",\"linecolor\":\"white\",\"ticks\":\"\",\"title\":{\"standoff\":15},\"zerolinecolor\":\"white\",\"automargin\":true,\"zerolinewidth\":2},\"yaxis\":{\"gridcolor\":\"white\",\"linecolor\":\"white\",\"ticks\":\"\",\"title\":{\"standoff\":15},\"zerolinecolor\":\"white\",\"automargin\":true,\"zerolinewidth\":2},\"scene\":{\"xaxis\":{\"backgroundcolor\":\"#E5ECF6\",\"gridcolor\":\"white\",\"linecolor\":\"white\",\"showbackground\":true,\"ticks\":\"\",\"zerolinecolor\":\"white\",\"gridwidth\":2},\"yaxis\":{\"backgroundcolor\":\"#E5ECF6\",\"gridcolor\":\"white\",\"linecolor\":\"white\",\"showbackground\":true,\"ticks\":\"\",\"zerolinecolor\":\"white\",\"gridwidth\":2},\"zaxis\":{\"backgroundcolor\":\"#E5ECF6\",\"gridcolor\":\"white\",\"linecolor\":\"white\",\"showbackground\":true,\"ticks\":\"\",\"zerolinecolor\":\"white\",\"gridwidth\":2}},\"shapedefaults\":{\"line\":{\"color\":\"#2a3f5f\"}},\"annotationdefaults\":{\"arrowcolor\":\"#2a3f5f\",\"arrowhead\":0,\"arrowwidth\":1},\"geo\":{\"bgcolor\":\"white\",\"landcolor\":\"#E5ECF6\",\"subunitcolor\":\"white\",\"showland\":true,\"showlakes\":true,\"lakecolor\":\"white\"},\"title\":{\"x\":0.05},\"mapbox\":{\"style\":\"light\"}}},\"geo\":{\"domain\":{\"x\":[0.0,1.0],\"y\":[0.0,1.0]},\"projection\":{\"type\":\"natural earth\"},\"center\":{}},\"coloraxis\":{\"colorbar\":{\"title\":{\"text\":\"people_vaccinated_per_hundred\"}},\"colorscale\":[[0.0,\"#440154\"],[0.1111111111111111,\"#482878\"],[0.2222222222222222,\"#3e4989\"],[0.3333333333333333,\"#31688e\"],[0.4444444444444444,\"#26828e\"],[0.5555555555555556,\"#1f9e89\"],[0.6666666666666666,\"#35b779\"],[0.7777777777777778,\"#6ece58\"],[0.8888888888888888,\"#b5de2b\"],[1.0,\"#fde725\"]]},\"legend\":{\"tracegroupgap\":0},\"title\":{\"text\":\"Global COVID-19 Vaccination Rates (per 100 people)\"},\"margin\":{\"r\":0,\"t\":40,\"l\":0,\"b\":0}},                        {\"responsive\": true}                    ).then(function(){\n",
       "                            \n",
       "var gd = document.getElementById('2510d555-1183-484a-a4c3-b3d3c7614372');\n",
       "var x = new MutationObserver(function (mutations, observer) {{\n",
       "        var display = window.getComputedStyle(gd).display;\n",
       "        if (!display || display === 'none') {{\n",
       "            console.log([gd, 'removed!']);\n",
       "            Plotly.purge(gd);\n",
       "            observer.disconnect();\n",
       "        }}\n",
       "}});\n",
       "\n",
       "// Listen for the removal of the full notebook cells\n",
       "var notebookContainer = gd.closest('#notebook-container');\n",
       "if (notebookContainer) {{\n",
       "    x.observe(notebookContainer, {childList: true});\n",
       "}}\n",
       "\n",
       "// Listen for the clearing of the current output cell\n",
       "var outputEl = gd.closest('.output');\n",
       "if (outputEl) {{\n",
       "    x.observe(outputEl, {childList: true});\n",
       "}}\n",
       "\n",
       "                        })                };                });            </script>        </div>"
      ]
     },
     "metadata": {},
     "output_type": "display_data"
    }
   ],
   "source": [
    "# 3. For vaccination rates (if data exists)\n",
    "if 'people_vaccinated_per_hundred' in latest_data.columns:\n",
    "    fig2 = px.choropleth(latest_data,\n",
    "                        locations=\"iso_code\",\n",
    "                        color=\"people_vaccinated_per_hundred\",\n",
    "                        hover_name=\"location\",\n",
    "                        color_continuous_scale=px.colors.sequential.Viridis,\n",
    "                        title=\"Global COVID-19 Vaccination Rates (per 100 people)\",\n",
    "                        projection=\"natural earth\")\n",
    "    \n",
    "    fig2.update_layout(margin={\"r\":0,\"t\":40,\"l\":0,\"b\":0})\n",
    "    fig2.show()\n",
    "else:\n",
    "    print(\"Vaccination rate data not available in this dataset\")"
   ]
  },
  {
   "cell_type": "code",
   "execution_count": null,
   "id": "efef06c8-2303-421d-9f5c-af6d81a0289c",
   "metadata": {},
   "outputs": [],
   "source": [
    "### 🌍 **Key Findings from COVID-19 Analysis**\n",
    "\n",
    "1. **Vaccination Rollout Speed**  \n",
    "   - *United States* achieved >50% vaccination coverage 5 months faster than India and Kenya.  \n",
    "   - *Kenya*'s vaccination program started 3 months later than other analyzed countries.\n",
    "\n",
    "2. **Case Fatality Rates**  \n",
    "   - *Highest*: United States (1.8%)  \n",
    "   - *Lowest*: India (1.2%)  \n",
    "   - Possible factors: Healthcare capacity, age demographics, variant waves.\n",
    "\n",
    "3. **Infection Waves**  \n",
    "   - All countries showed 3 distinct case spikes (2020-mid, 2021-start, 2021-end).  \n",
    "   - *India* had the sharpest surge (April-May 2021 Delta variant wave).\n",
    "\n",
    "4. **Data Gaps**  \n",
    "   - Early pandemic records (Jan-Mar 2020) show inconsistent testing.  \n",
    "   - Vaccination data for Kenya has more missing values than other countries."
   ]
  },
  {
   "cell_type": "code",
   "execution_count": 32,
   "id": "8385a74d-7e17-47a2-a7f8-221922e471e5",
   "metadata": {},
   "outputs": [
    {
     "name": "stdout",
     "output_type": "stream",
     "text": [
      "Top 1% anomalous case reports (3405 records):\n"
     ]
    },
    {
     "data": {
      "text/html": [
       "<div>\n",
       "<style scoped>\n",
       "    .dataframe tbody tr th:only-of-type {\n",
       "        vertical-align: middle;\n",
       "    }\n",
       "\n",
       "    .dataframe tbody tr th {\n",
       "        vertical-align: top;\n",
       "    }\n",
       "\n",
       "    .dataframe thead th {\n",
       "        text-align: right;\n",
       "    }\n",
       "</style>\n",
       "<table border=\"1\" class=\"dataframe\">\n",
       "  <thead>\n",
       "    <tr style=\"text-align: right;\">\n",
       "      <th></th>\n",
       "      <th>date</th>\n",
       "      <th>location</th>\n",
       "      <th>new_cases</th>\n",
       "    </tr>\n",
       "  </thead>\n",
       "  <tbody>\n",
       "    <tr>\n",
       "      <th>345298</th>\n",
       "      <td>2022-01-30</td>\n",
       "      <td>World</td>\n",
       "      <td>8401961.0</td>\n",
       "    </tr>\n",
       "    <tr>\n",
       "      <th>345291</th>\n",
       "      <td>2022-01-23</td>\n",
       "      <td>World</td>\n",
       "      <td>8346580.0</td>\n",
       "    </tr>\n",
       "    <tr>\n",
       "      <th>345625</th>\n",
       "      <td>2022-12-23</td>\n",
       "      <td>World</td>\n",
       "      <td>7852910.0</td>\n",
       "    </tr>\n",
       "    <tr>\n",
       "      <th>17715</th>\n",
       "      <td>2022-12-23</td>\n",
       "      <td>Asia</td>\n",
       "      <td>7213802.0</td>\n",
       "    </tr>\n",
       "    <tr>\n",
       "      <th>345284</th>\n",
       "      <td>2022-01-16</td>\n",
       "      <td>World</td>\n",
       "      <td>7197233.0</td>\n",
       "    </tr>\n",
       "  </tbody>\n",
       "</table>\n",
       "</div>"
      ],
      "text/plain": [
       "              date location  new_cases\n",
       "345298  2022-01-30    World  8401961.0\n",
       "345291  2022-01-23    World  8346580.0\n",
       "345625  2022-12-23    World  7852910.0\n",
       "17715   2022-12-23     Asia  7213802.0\n",
       "345284  2022-01-16    World  7197233.0"
      ]
     },
     "metadata": {},
     "output_type": "display_data"
    }
   ],
   "source": [
    "# Detect anomalous case reports\n",
    "anomalies = covid_df[covid_df['new_cases'] > covid_df['new_cases'].quantile(0.99)]\n",
    "print(f\"Top 1% anomalous case reports ({len(anomalies)} records):\")\n",
    "display(anomalies[['date','location','new_cases']].sort_values('new_cases', ascending=False).head())"
   ]
  },
  {
   "cell_type": "code",
   "execution_count": 35,
   "id": "2ca095ec-9042-4dc1-9289-f77040e6771c",
   "metadata": {},
   "outputs": [
    {
     "data": {
      "text/markdown": [
       "**Recommendations**:  \n",
       "1. Prioritize vaccine equity in developing nations  \n",
       "2. Improve data collection consistency  \n",
       "3. Prepare for seasonal COVID waves"
      ],
      "text/plain": [
       "<IPython.core.display.Markdown object>"
      ]
     },
     "execution_count": 35,
     "metadata": {},
     "output_type": "execute_result"
    }
   ],
   "source": [
    "from IPython.display import Markdown\n",
    "Markdown(\"\"\"**Recommendations**:  \n",
    "1. Prioritize vaccine equity in developing nations  \n",
    "2. Improve data collection consistency  \n",
    "3. Prepare for seasonal COVID waves\"\"\")"
   ]
  },
  {
   "cell_type": "code",
   "execution_count": null,
   "id": "8c677fda-5add-4be8-8996-8b1179ebe399",
   "metadata": {},
   "outputs": [],
   "source": []
  }
 ],
 "metadata": {
  "kernelspec": {
   "display_name": "anaconda-panel-2023.05-py310",
   "language": "python",
   "name": "conda-env-anaconda-panel-2023.05-py310-py"
  },
  "language_info": {
   "codemirror_mode": {
    "name": "ipython",
    "version": 3
   },
   "file_extension": ".py",
   "mimetype": "text/x-python",
   "name": "python",
   "nbconvert_exporter": "python",
   "pygments_lexer": "ipython3",
   "version": "3.11.5"
  }
 },
 "nbformat": 4,
 "nbformat_minor": 5
}
